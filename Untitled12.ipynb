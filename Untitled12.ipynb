{
 "cells": [
  {
   "cell_type": "markdown",
   "id": "ee3a73ca",
   "metadata": {},
   "source": [
    "5-2. 여러가지 유사도 기법"
   ]
  },
  {
   "cell_type": "markdown",
   "id": "488f0937",
   "metadata": {},
   "source": [
    "1. 유클리드 거리(Euclidean distance)\n",
    "* 2차원을 예로 들었을 때 2차원위에 존재하는 두 점 사이의 최단거리를 유클리드 거리라 한다."
   ]
  },
  {
   "cell_type": "code",
   "execution_count": 2,
   "id": "81d53995",
   "metadata": {},
   "outputs": [
    {
     "name": "stdout",
     "output_type": "stream",
     "text": [
      "문서1과 문서Q의 거리 : 2.23606797749979\n",
      "문서2과 문서Q의 거리 : 3.1622776601683795\n",
      "문서3과 문서Q의 거리 : 2.449489742783178\n"
     ]
    }
   ],
   "source": [
    "import numpy as np\n",
    "\n",
    "def dist(x,y) :\n",
    "    return np.sqrt(np.sum((x-y)**2))\n",
    "\n",
    "doc1 = np.array((2,3,0,1))\n",
    "doc2 = np.array((1,2,3,1))\n",
    "doc3 = np.array((2,1,2,2))\n",
    "docQ = np.array((1,1,0,1))\n",
    "\n",
    "print('문서1과 문서Q의 거리 :',dist(doc1,docQ))\n",
    "print('문서2과 문서Q의 거리 :',dist(doc2,docQ))\n",
    "print('문서3과 문서Q의 거리 :',dist(doc3,docQ))"
   ]
  },
  {
   "cell_type": "markdown",
   "id": "7eeaac39",
   "metadata": {},
   "source": [
    "유클리드 거리의 값이 가장 작은 것은 문서 간 거리가 가장 가깝다는 것을 의미. 즉, 문서1이 문서Q와 가장 유사하다."
   ]
  },
  {
   "cell_type": "markdown",
   "id": "99f0d285",
   "metadata": {},
   "source": [
    "2. 자카드 유사도(Jaccard similarity)\n",
    "* 합집합에서 교집합의 비율을 구한다면 두 집합 A와 B의 유사도를 구할 수 있다는 것이 자카드 유사도의 아이디어 이다."
   ]
  },
  {
   "cell_type": "code",
   "execution_count": 3,
   "id": "8aa41dbb",
   "metadata": {},
   "outputs": [
    {
     "name": "stdout",
     "output_type": "stream",
     "text": [
      "문서1 : ['apple', 'banana', 'everyone', 'like', 'likey', 'watch', 'card', 'holder']\n",
      "문서2 : ['apple', 'banana', 'coupon', 'passport', 'love', 'you']\n"
     ]
    }
   ],
   "source": [
    "doc1 = \"apple banana everyone like likey watch card holder\"\n",
    "doc2 = \"apple banana coupon passport love you\"\n",
    "\n",
    "# 토큰화\n",
    "tokenized_doc1 = doc1.split()\n",
    "tokenized_doc2 = doc2.split()\n",
    "\n",
    "print('문서1 :',tokenized_doc1)\n",
    "print('문서2 :',tokenized_doc2)"
   ]
  },
  {
   "cell_type": "code",
   "execution_count": 5,
   "id": "1bd80b0c",
   "metadata": {},
   "outputs": [
    {
     "name": "stdout",
     "output_type": "stream",
     "text": [
      "문서 1과 문서 2의 합집합 : {'apple', 'like', 'card', 'everyone', 'coupon', 'banana', 'watch', 'passport', 'love', 'likey', 'holder', 'you'}\n",
      "문서 1과 문서 2의 교집합 : {'banana', 'apple'}\n"
     ]
    }
   ],
   "source": [
    "union = set(tokenized_doc1).union(set(tokenized_doc2))\n",
    "print('문서 1과 문서 2의 합집합 :',union)\n",
    "\n",
    "intersection = set(tokenized_doc1).intersection(set(tokenized_doc2))\n",
    "print('문서 1과 문서 2의 교집합 :',intersection)"
   ]
  },
  {
   "cell_type": "code",
   "execution_count": null,
   "id": "12a64158",
   "metadata": {},
   "outputs": [],
   "source": [
    "pri"
   ]
  },
  {
   "cell_type": "code",
   "execution_count": null,
   "id": "dc0792ca",
   "metadata": {},
   "outputs": [],
   "source": []
  },
  {
   "cell_type": "code",
   "execution_count": null,
   "id": "ad06f28f",
   "metadata": {},
   "outputs": [],
   "source": []
  },
  {
   "cell_type": "code",
   "execution_count": null,
   "id": "e351c1a1",
   "metadata": {},
   "outputs": [],
   "source": []
  },
  {
   "cell_type": "code",
   "execution_count": null,
   "id": "a953035c",
   "metadata": {},
   "outputs": [],
   "source": []
  }
 ],
 "metadata": {
  "kernelspec": {
   "display_name": "my_env",
   "language": "python",
   "name": "my_env"
  },
  "language_info": {
   "codemirror_mode": {
    "name": "ipython",
    "version": 3
   },
   "file_extension": ".py",
   "mimetype": "text/x-python",
   "name": "python",
   "nbconvert_exporter": "python",
   "pygments_lexer": "ipython3",
   "version": "3.10.6"
  }
 },
 "nbformat": 4,
 "nbformat_minor": 5
}
