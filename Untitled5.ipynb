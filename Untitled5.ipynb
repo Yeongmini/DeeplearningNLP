{
 "cells": [
  {
   "cell_type": "markdown",
   "id": "726b043b",
   "metadata": {},
   "source": [
    "2-10. 한국어 전처리 패키지(Text Preprocessing Tools for Korean Text)"
   ]
  },
  {
   "cell_type": "markdown",
   "id": "7752edf1",
   "metadata": {},
   "source": [
    "1. PyKoSpacing - 띄어쓰기가 되어있지 않은 문장을 띄어쓰기를 한 문장으로 변환해주는 패키지"
   ]
  },
  {
   "cell_type": "code",
   "execution_count": 4,
   "id": "d9a33c25",
   "metadata": {},
   "outputs": [
    {
     "name": "stdout",
     "output_type": "stream",
     "text": [
      "Collecting git+https://github.com/haven-jeon/PyKoSpacing.git\n",
      "  Cloning https://github.com/haven-jeon/PyKoSpacing.git to c:\\users\\rladu\\appdata\\local\\temp\\pip-req-build-0hhmc45a\n",
      "  Resolved https://github.com/haven-jeon/PyKoSpacing.git to commit a058e90c9de41889c63bf2ee454bf1de064d70ff\n",
      "  Preparing metadata (setup.py): started\n",
      "  Preparing metadata (setup.py): finished with status 'done'\n",
      "Collecting tensorflow==2.9.3\n",
      "  Using cached tensorflow-2.9.3-cp310-cp310-win_amd64.whl (444.2 MB)\n",
      "Collecting h5py==3.1.0\n",
      "  Using cached h5py-3.1.0.tar.gz (371 kB)\n",
      "  Installing build dependencies: started\n",
      "  Installing build dependencies: finished with status 'done'\n",
      "  Getting requirements to build wheel: started\n",
      "  Getting requirements to build wheel: finished with status 'done'\n",
      "  Installing backend dependencies: started\n",
      "  Installing backend dependencies: finished with status 'error'\n",
      "Note: you may need to restart the kernel to use updated packages.\n"
     ]
    },
    {
     "name": "stderr",
     "output_type": "stream",
     "text": [
      "  Running command git clone --filter=blob:none --quiet https://github.com/haven-jeon/PyKoSpacing.git 'C:\\Users\\rladu\\AppData\\Local\\Temp\\pip-req-build-0hhmc45a'\n",
      "  error: subprocess-exited-with-error\n",
      "  \n",
      "  pip subprocess to install backend dependencies did not run successfully.\n",
      "  exit code: 1\n",
      "  \n",
      "  [227 lines of output]\n",
      "  Collecting numpy==1.19.3\n",
      "    Using cached numpy-1.19.3.zip (7.3 MB)\n",
      "    Installing build dependencies: started\n",
      "    Installing build dependencies: finished with status 'done'\n",
      "    Getting requirements to build wheel: started\n",
      "    Getting requirements to build wheel: finished with status 'done'\n",
      "    Preparing metadata (pyproject.toml): started\n",
      "    Preparing metadata (pyproject.toml): finished with status 'error'\n",
      "    error: subprocess-exited-with-error\n",
      "  \n",
      "    Preparing metadata (pyproject.toml) did not run successfully.\n",
      "    exit code: 1\n",
      "  \n",
      "    [202 lines of output]\n",
      "    setup.py:67: RuntimeWarning: NumPy 1.19.3 may not yet support Python 3.10.\n",
      "      warnings.warn(\n",
      "    Running from numpy source directory.\n",
      "    setup.py:480: UserWarning: Unrecognized setuptools command, proceeding with generating Cython sources and expanding templates\n",
      "      run_build = parse_setuppy_commands()\n",
      "    Processing numpy/random\\_bounded_integers.pxd.in\n",
      "    Processing numpy/random\\bit_generator.pyx\n",
      "    Processing numpy/random\\mtrand.pyx\n",
      "    Processing numpy/random\\_bounded_integers.pyx.in\n",
      "    Processing numpy/random\\_common.pyx\n",
      "    Processing numpy/random\\_generator.pyx\n",
      "    Processing numpy/random\\_mt19937.pyx\n",
      "    Processing numpy/random\\_pcg64.pyx\n",
      "    Processing numpy/random\\_philox.pyx\n",
      "    Processing numpy/random\\_sfc64.pyx\n",
      "    Cythonizing sources\n",
      "    blas_opt_info:\n",
      "    blas_mkl_info:\n",
      "    No module named 'numpy.distutils._msvccompiler' in numpy.distutils; trying from distutils\n",
      "    customize MSVCCompiler\n",
      "      libraries mkl_rt not found in ['C:\\\\Users\\\\rladu\\\\anaconda3\\\\envs\\\\my_env\\\\lib', 'C:\\\\', 'C:\\\\Users\\\\rladu\\\\anaconda3\\\\envs\\\\my_env\\\\libs']\n",
      "      NOT AVAILABLE\n",
      "  \n",
      "    blis_info:\n",
      "      libraries blis not found in ['C:\\\\Users\\\\rladu\\\\anaconda3\\\\envs\\\\my_env\\\\lib', 'C:\\\\', 'C:\\\\Users\\\\rladu\\\\anaconda3\\\\envs\\\\my_env\\\\libs']\n",
      "      NOT AVAILABLE\n",
      "  \n",
      "    openblas_info:\n",
      "      libraries openblas not found in ['C:\\\\Users\\\\rladu\\\\anaconda3\\\\envs\\\\my_env\\\\lib', 'C:\\\\', 'C:\\\\Users\\\\rladu\\\\anaconda3\\\\envs\\\\my_env\\\\libs']\n",
      "    get_default_fcompiler: matching types: '['gnu', 'intelv', 'absoft', 'compaqv', 'intelev', 'gnu95', 'g95', 'intelvem', 'intelem', 'flang']'\n",
      "    customize GnuFCompiler\n",
      "    Could not locate executable g77\n",
      "    Could not locate executable f77\n",
      "    customize IntelVisualFCompiler\n",
      "    Could not locate executable ifort\n",
      "    Could not locate executable ifl\n",
      "    customize AbsoftFCompiler\n",
      "    Could not locate executable f90\n",
      "    customize CompaqVisualFCompiler\n",
      "    Found executable C:\\Users\\rladu\\anaconda3\\Library\\usr\\bin\\DF.exe\n",
      "    customize IntelItaniumVisualFCompiler\n",
      "    Could not locate executable efl\n",
      "    customize Gnu95FCompiler\n",
      "    Could not locate executable gfortran\n",
      "    Could not locate executable f95\n",
      "    customize G95FCompiler\n",
      "    Could not locate executable g95\n",
      "    customize IntelEM64VisualFCompiler\n",
      "    customize IntelEM64TFCompiler\n",
      "    Could not locate executable efort\n",
      "    Could not locate executable efc\n",
      "    customize PGroupFlangCompiler\n",
      "    Could not locate executable flang\n",
      "    don't know how to compile Fortran code on platform 'nt'\n",
      "      NOT AVAILABLE\n",
      "  \n",
      "    atlas_3_10_blas_threads_info:\n",
      "    Setting PTATLAS=ATLAS\n",
      "      libraries tatlas not found in ['C:\\\\Users\\\\rladu\\\\anaconda3\\\\envs\\\\my_env\\\\lib', 'C:\\\\', 'C:\\\\Users\\\\rladu\\\\anaconda3\\\\envs\\\\my_env\\\\libs']\n",
      "      NOT AVAILABLE\n",
      "  \n",
      "    atlas_3_10_blas_info:\n",
      "      libraries satlas not found in ['C:\\\\Users\\\\rladu\\\\anaconda3\\\\envs\\\\my_env\\\\lib', 'C:\\\\', 'C:\\\\Users\\\\rladu\\\\anaconda3\\\\envs\\\\my_env\\\\libs']\n",
      "      NOT AVAILABLE\n",
      "  \n",
      "    atlas_blas_threads_info:\n",
      "    Setting PTATLAS=ATLAS\n",
      "      libraries ptf77blas,ptcblas,atlas not found in ['C:\\\\Users\\\\rladu\\\\anaconda3\\\\envs\\\\my_env\\\\lib', 'C:\\\\', 'C:\\\\Users\\\\rladu\\\\anaconda3\\\\envs\\\\my_env\\\\libs']\n",
      "      NOT AVAILABLE\n",
      "  \n",
      "    atlas_blas_info:\n",
      "      libraries f77blas,cblas,atlas not found in ['C:\\\\Users\\\\rladu\\\\anaconda3\\\\envs\\\\my_env\\\\lib', 'C:\\\\', 'C:\\\\Users\\\\rladu\\\\anaconda3\\\\envs\\\\my_env\\\\libs']\n",
      "      NOT AVAILABLE\n",
      "  \n",
      "    accelerate_info:\n",
      "      NOT AVAILABLE\n",
      "  \n",
      "    C:\\Users\\rladu\\AppData\\Local\\Temp\\pip-install-4i03v1tb\\numpy_6dc77c05fb3643f08becc7b7fc363f62\\numpy\\distutils\\system_info.py:1914: UserWarning:\n",
      "        Optimized (vendor) Blas libraries are not found.\n",
      "        Falls back to netlib Blas library which has worse performance.\n",
      "        A better performance should be easily gained by switching\n",
      "        Blas library.\n",
      "      if self._calc_info(blas):\n",
      "    blas_info:\n",
      "      libraries blas not found in ['C:\\\\Users\\\\rladu\\\\anaconda3\\\\envs\\\\my_env\\\\lib', 'C:\\\\', 'C:\\\\Users\\\\rladu\\\\anaconda3\\\\envs\\\\my_env\\\\libs']\n",
      "      NOT AVAILABLE\n",
      "  \n",
      "    C:\\Users\\rladu\\AppData\\Local\\Temp\\pip-install-4i03v1tb\\numpy_6dc77c05fb3643f08becc7b7fc363f62\\numpy\\distutils\\system_info.py:1914: UserWarning:\n",
      "        Blas (http://www.netlib.org/blas/) libraries not found.\n",
      "        Directories to search for the libraries can be specified in the\n",
      "        numpy/distutils/site.cfg file (section [blas]) or by setting\n",
      "        the BLAS environment variable.\n",
      "      if self._calc_info(blas):\n",
      "    blas_src_info:\n",
      "      NOT AVAILABLE\n",
      "  \n",
      "    C:\\Users\\rladu\\AppData\\Local\\Temp\\pip-install-4i03v1tb\\numpy_6dc77c05fb3643f08becc7b7fc363f62\\numpy\\distutils\\system_info.py:1914: UserWarning:\n",
      "        Blas (http://www.netlib.org/blas/) sources not found.\n",
      "        Directories to search for the sources can be specified in the\n",
      "        numpy/distutils/site.cfg file (section [blas_src]) or by setting\n",
      "        the BLAS_SRC environment variable.\n",
      "      if self._calc_info(blas):\n",
      "      NOT AVAILABLE\n",
      "  \n",
      "    non-existing path in 'numpy\\\\distutils': 'site.cfg'\n",
      "    lapack_opt_info:\n",
      "    lapack_mkl_info:\n",
      "      libraries mkl_rt not found in ['C:\\\\Users\\\\rladu\\\\anaconda3\\\\envs\\\\my_env\\\\lib', 'C:\\\\', 'C:\\\\Users\\\\rladu\\\\anaconda3\\\\envs\\\\my_env\\\\libs']\n",
      "      NOT AVAILABLE\n",
      "  \n",
      "    openblas_lapack_info:\n",
      "      libraries openblas not found in ['C:\\\\Users\\\\rladu\\\\anaconda3\\\\envs\\\\my_env\\\\lib', 'C:\\\\', 'C:\\\\Users\\\\rladu\\\\anaconda3\\\\envs\\\\my_env\\\\libs']\n",
      "      NOT AVAILABLE\n",
      "  \n",
      "    openblas_clapack_info:\n",
      "      libraries openblas,lapack not found in ['C:\\\\Users\\\\rladu\\\\anaconda3\\\\envs\\\\my_env\\\\lib', 'C:\\\\', 'C:\\\\Users\\\\rladu\\\\anaconda3\\\\envs\\\\my_env\\\\libs']\n",
      "      NOT AVAILABLE\n",
      "  \n",
      "    flame_info:\n",
      "      libraries flame not found in ['C:\\\\Users\\\\rladu\\\\anaconda3\\\\envs\\\\my_env\\\\lib', 'C:\\\\', 'C:\\\\Users\\\\rladu\\\\anaconda3\\\\envs\\\\my_env\\\\libs']\n",
      "      NOT AVAILABLE\n",
      "  \n",
      "    atlas_3_10_threads_info:\n",
      "    Setting PTATLAS=ATLAS\n",
      "      libraries lapack_atlas not found in C:\\Users\\rladu\\anaconda3\\envs\\my_env\\lib\n",
      "      libraries tatlas,tatlas not found in C:\\Users\\rladu\\anaconda3\\envs\\my_env\\lib\n",
      "      libraries lapack_atlas not found in C:\\\n",
      "      libraries tatlas,tatlas not found in C:\\\n",
      "      libraries lapack_atlas not found in C:\\Users\\rladu\\anaconda3\\envs\\my_env\\libs\n",
      "      libraries tatlas,tatlas not found in C:\\Users\\rladu\\anaconda3\\envs\\my_env\\libs\n",
      "    <class 'numpy.distutils.system_info.atlas_3_10_threads_info'>\n",
      "      NOT AVAILABLE\n",
      "  \n",
      "    atlas_3_10_info:\n",
      "      libraries lapack_atlas not found in C:\\Users\\rladu\\anaconda3\\envs\\my_env\\lib\n",
      "      libraries satlas,satlas not found in C:\\Users\\rladu\\anaconda3\\envs\\my_env\\lib\n",
      "      libraries lapack_atlas not found in C:\\\n",
      "      libraries satlas,satlas not found in C:\\\n",
      "      libraries lapack_atlas not found in C:\\Users\\rladu\\anaconda3\\envs\\my_env\\libs\n",
      "      libraries satlas,satlas not found in C:\\Users\\rladu\\anaconda3\\envs\\my_env\\libs\n",
      "    <class 'numpy.distutils.system_info.atlas_3_10_info'>\n",
      "      NOT AVAILABLE\n",
      "  \n",
      "    atlas_threads_info:\n",
      "    Setting PTATLAS=ATLAS\n",
      "      libraries lapack_atlas not found in C:\\Users\\rladu\\anaconda3\\envs\\my_env\\lib\n",
      "      libraries ptf77blas,ptcblas,atlas not found in C:\\Users\\rladu\\anaconda3\\envs\\my_env\\lib\n",
      "      libraries lapack_atlas not found in C:\\\n",
      "      libraries ptf77blas,ptcblas,atlas not found in C:\\\n",
      "      libraries lapack_atlas not found in C:\\Users\\rladu\\anaconda3\\envs\\my_env\\libs\n",
      "      libraries ptf77blas,ptcblas,atlas not found in C:\\Users\\rladu\\anaconda3\\envs\\my_env\\libs\n",
      "    <class 'numpy.distutils.system_info.atlas_threads_info'>\n",
      "      NOT AVAILABLE\n",
      "  \n",
      "    atlas_info:\n",
      "      libraries lapack_atlas not found in C:\\Users\\rladu\\anaconda3\\envs\\my_env\\lib\n",
      "      libraries f77blas,cblas,atlas not found in C:\\Users\\rladu\\anaconda3\\envs\\my_env\\lib\n",
      "      libraries lapack_atlas not found in C:\\\n",
      "      libraries f77blas,cblas,atlas not found in C:\\\n",
      "      libraries lapack_atlas not found in C:\\Users\\rladu\\anaconda3\\envs\\my_env\\libs\n",
      "      libraries f77blas,cblas,atlas not found in C:\\Users\\rladu\\anaconda3\\envs\\my_env\\libs\n",
      "    <class 'numpy.distutils.system_info.atlas_info'>\n",
      "      NOT AVAILABLE\n",
      "  \n",
      "    lapack_info:\n",
      "      libraries lapack not found in ['C:\\\\Users\\\\rladu\\\\anaconda3\\\\envs\\\\my_env\\\\lib', 'C:\\\\', 'C:\\\\Users\\\\rladu\\\\anaconda3\\\\envs\\\\my_env\\\\libs']\n",
      "      NOT AVAILABLE\n",
      "  \n",
      "    C:\\Users\\rladu\\AppData\\Local\\Temp\\pip-install-4i03v1tb\\numpy_6dc77c05fb3643f08becc7b7fc363f62\\numpy\\distutils\\system_info.py:1748: UserWarning:\n",
      "        Lapack (http://www.netlib.org/lapack/) libraries not found.\n",
      "        Directories to search for the libraries can be specified in the\n",
      "        numpy/distutils/site.cfg file (section [lapack]) or by setting\n",
      "        the LAPACK environment variable.\n",
      "      return getattr(self, '_calc_info_{}'.format(name))()\n",
      "    lapack_src_info:\n",
      "      NOT AVAILABLE\n",
      "  \n",
      "    C:\\Users\\rladu\\AppData\\Local\\Temp\\pip-install-4i03v1tb\\numpy_6dc77c05fb3643f08becc7b7fc363f62\\numpy\\distutils\\system_info.py:1748: UserWarning:\n",
      "        Lapack (http://www.netlib.org/lapack/) sources not found.\n",
      "        Directories to search for the sources can be specified in the\n",
      "        numpy/distutils/site.cfg file (section [lapack_src]) or by setting\n",
      "        the LAPACK_SRC environment variable.\n",
      "      return getattr(self, '_calc_info_{}'.format(name))()\n",
      "      NOT AVAILABLE\n",
      "  \n",
      "    numpy_linalg_lapack_lite:\n",
      "      FOUND:\n",
      "        language = c\n",
      "        define_macros = [('HAVE_BLAS_ILP64', None), ('BLAS_SYMBOL_SUFFIX', '64_')]\n",
      "  \n",
      "    C:\\Users\\rladu\\AppData\\Local\\Temp\\pip-build-env-lipn_hsq\\overlay\\Lib\\site-packages\\setuptools\\_distutils\\dist.py:275: UserWarning: Unknown distribution option: 'define_macros'\n",
      "      warnings.warn(msg)\n",
      "    running dist_info\n",
      "    running build_src\n",
      "    build_src\n",
      "    building py_modules sources\n",
      "    creating build\n",
      "    creating build\\src.win-amd64-3.10\n",
      "    creating build\\src.win-amd64-3.10\\numpy\n",
      "    creating build\\src.win-amd64-3.10\\numpy\\distutils\n",
      "    building library \"npymath\" sources\n",
      "    error: Microsoft Visual C++ 14.0 is required. Get it with \"Build Tools for Visual Studio\": https://visualstudio.microsoft.com/downloads/\n",
      "    [end of output]\n",
      "  \n",
      "    note: This error originates from a subprocess, and is likely not a problem with pip.\n",
      "  error: metadata-generation-failed\n",
      "  \n",
      "  Encountered error while generating package metadata.\n",
      "  \n",
      "  See above for output.\n",
      "  \n",
      "  note: This is an issue with the package mentioned above, not pip.\n",
      "  hint: See above for details.\n",
      "  [end of output]\n",
      "  \n",
      "  note: This error originates from a subprocess, and is likely not a problem with pip.\n",
      "error: subprocess-exited-with-error\n",
      "\n",
      "pip subprocess to install backend dependencies did not run successfully.\n",
      "exit code: 1\n",
      "\n",
      "See above for output.\n",
      "\n",
      "note: This error originates from a subprocess, and is likely not a problem with pip.\n"
     ]
    }
   ],
   "source": [
    "pip install git+https://github.com/haven-jeon/PyKoSpacing.git"
   ]
  },
  {
   "cell_type": "code",
   "execution_count": 5,
   "id": "03bcdbbb",
   "metadata": {},
   "outputs": [],
   "source": [
    "sent = '김철수는 극중 두 인격의 사나이 이광수 역을 맡았다. 철수는 한국 유일의 태권도 전승자를 가리는 결전의 날을 앞두고 10년간 함께 훈련한 사형인 유연재(김광수 분)를 찾으러 속세로 내려온 인물이다.'"
   ]
  },
  {
   "cell_type": "markdown",
   "id": "328c4cce",
   "metadata": {},
   "source": [
    "new_sent = sent.replace(\" \", '') # 띄어쓰기가 없는 문장 임의로 만들기\n",
    "print(new_sent)"
   ]
  },
  {
   "cell_type": "code",
   "execution_count": 7,
   "id": "ce3bafd0",
   "metadata": {},
   "outputs": [
    {
     "ename": "ModuleNotFoundError",
     "evalue": "No module named 'pykospacing'",
     "output_type": "error",
     "traceback": [
      "\u001b[1;31m---------------------------------------------------------------------------\u001b[0m",
      "\u001b[1;31mModuleNotFoundError\u001b[0m                       Traceback (most recent call last)",
      "Cell \u001b[1;32mIn [7], line 1\u001b[0m\n\u001b[1;32m----> 1\u001b[0m \u001b[38;5;28;01mfrom\u001b[39;00m \u001b[38;5;21;01mpykospacing\u001b[39;00m \u001b[38;5;28;01mimport\u001b[39;00m Spacing\n\u001b[0;32m      2\u001b[0m spacing \u001b[38;5;241m=\u001b[39m Spacing()\n\u001b[0;32m      3\u001b[0m kospacing_sent \u001b[38;5;241m=\u001b[39m spacing(new_sent) \n",
      "\u001b[1;31mModuleNotFoundError\u001b[0m: No module named 'pykospacing'"
     ]
    }
   ],
   "source": [
    "from pykospacing import Spacing\n",
    "spacing = Spacing()\n",
    "kospacing_sent = spacing(new_sent) \n",
    "\n",
    "print(sent)\n",
    "print(kospacing_sent)"
   ]
  },
  {
   "cell_type": "markdown",
   "id": "7e4ec99b",
   "metadata": {},
   "source": [
    "pykospacing 에러떠서 설치못함..."
   ]
  },
  {
   "cell_type": "markdown",
   "id": "f89ca27d",
   "metadata": {},
   "source": [
    "2. Py-Hanspell - 네이버 한글 맞춤법 검사기를 바탕으로 만들어진 패키지."
   ]
  },
  {
   "cell_type": "code",
   "execution_count": null,
   "id": "7a153b63",
   "metadata": {},
   "outputs": [],
   "source": [
    "pip install git+https://github.com/ssut/py-hanspell.git"
   ]
  },
  {
   "cell_type": "code",
   "execution_count": 8,
   "id": "710ecb2b",
   "metadata": {},
   "outputs": [
    {
     "name": "stdout",
     "output_type": "stream",
     "text": [
      "맞춤법 틀리면 왜 안돼? 쓰고 싶은 대로 쓰면 되지\n"
     ]
    }
   ],
   "source": [
    "from hanspell import spell_checker\n",
    "\n",
    "sent = \"맞춤법 틀리면 외 않되? 쓰고싶은대로쓰면돼지 \"\n",
    "spelled_sent = spell_checker.check(sent)\n",
    "\n",
    "hanspell_sent = spelled_sent.checked\n",
    "print(hanspell_sent)"
   ]
  },
  {
   "cell_type": "markdown",
   "id": "0a98f4f6",
   "metadata": {},
   "source": [
    "3. SOYNLP - 품사 태깅, 단어 토큰화 등을 지원하는 단어 토크나이저. 비지도 학습으로 단어 토큰화를 한다는 특징을 가지고 있다."
   ]
  },
  {
   "cell_type": "code",
   "execution_count": 9,
   "id": "c9c4404e",
   "metadata": {},
   "outputs": [
    {
     "name": "stdout",
     "output_type": "stream",
     "text": [
      "Collecting soynlp\n",
      "  Downloading soynlp-0.0.493-py3-none-any.whl (416 kB)\n",
      "     -------------------------------------- 416.8/416.8 kB 6.6 MB/s eta 0:00:00\n",
      "Requirement already satisfied: scikit-learn>=0.20.0 in c:\\users\\rladu\\anaconda3\\envs\\my_env\\lib\\site-packages (from soynlp) (1.1.3)\n",
      "Requirement already satisfied: psutil>=5.0.1 in c:\\users\\rladu\\anaconda3\\envs\\my_env\\lib\\site-packages (from soynlp) (5.9.4)\n",
      "Requirement already satisfied: scipy>=1.1.0 in c:\\users\\rladu\\anaconda3\\envs\\my_env\\lib\\site-packages (from soynlp) (1.9.3)\n",
      "Requirement already satisfied: numpy>=1.12.1 in c:\\users\\rladu\\anaconda3\\envs\\my_env\\lib\\site-packages (from soynlp) (1.23.3)\n",
      "Requirement already satisfied: joblib>=1.0.0 in c:\\users\\rladu\\anaconda3\\envs\\my_env\\lib\\site-packages (from scikit-learn>=0.20.0->soynlp) (1.1.1)\n",
      "Requirement already satisfied: threadpoolctl>=2.0.0 in c:\\users\\rladu\\anaconda3\\envs\\my_env\\lib\\site-packages (from scikit-learn>=0.20.0->soynlp) (2.2.0)\n",
      "Installing collected packages: soynlp\n",
      "Successfully installed soynlp-0.0.493\n",
      "Note: you may need to restart the kernel to use updated packages.\n"
     ]
    }
   ],
   "source": [
    "pip install soynlp"
   ]
  },
  {
   "cell_type": "markdown",
   "id": "1f2ac5a9",
   "metadata": {},
   "source": [
    "기존의 형태소 분석기는 신조어나 형태소 분석기에 등록되지 않은 단어 같은 경우에는 제대로 구분하지 못하는 단점 보유"
   ]
  },
  {
   "cell_type": "code",
   "execution_count": 10,
   "id": "91ea748d",
   "metadata": {},
   "outputs": [
    {
     "name": "stdout",
     "output_type": "stream",
     "text": [
      "['에이', '비식스', '이대', '휘', '1월', '최애', '돌', '기부', '선정']\n"
     ]
    }
   ],
   "source": [
    "from konlpy.tag import Okt\n",
    "tokenizer = Okt()\n",
    "print(tokenizer.morphs('에이비식스 이대휘 1월 최애돌 기부 선정'))\n",
    "# 기존 형태소 분석기의 단점"
   ]
  },
  {
   "cell_type": "code",
   "execution_count": 12,
   "id": "6f8bbd25",
   "metadata": {},
   "outputs": [
    {
     "data": {
      "text/plain": [
       "('2016-10-20.txt', <http.client.HTTPMessage at 0x1ec08b8bac0>)"
      ]
     },
     "execution_count": 12,
     "metadata": {},
     "output_type": "execute_result"
    }
   ],
   "source": [
    "import urllib.request\n",
    "from soynlp import DoublespaceLineCorpus\n",
    "from soynlp.word import WordExtractor\n",
    "urllib.request.urlretrieve(\"https://raw.githubusercontent.com/lovit/soynlp/master/tutorials/2016-10-20.txt\", filename=\"2016-10-20.txt\")"
   ]
  },
  {
   "cell_type": "code",
   "execution_count": 13,
   "id": "f5952cd2",
   "metadata": {},
   "outputs": [
    {
     "data": {
      "text/plain": [
       "30091"
      ]
     },
     "execution_count": 13,
     "metadata": {},
     "output_type": "execute_result"
    }
   ],
   "source": [
    "# 훈련 데이터를 다수의 문서로 분리\n",
    "corpus = DoublespaceLineCorpus(\"2016-10-20.txt\")\n",
    "len(corpus)"
   ]
  },
  {
   "cell_type": "code",
   "execution_count": 14,
   "id": "e77b7449",
   "metadata": {},
   "outputs": [
    {
     "name": "stdout",
     "output_type": "stream",
     "text": [
      "19  1990  52 1 22\n",
      "오패산터널 총격전 용의자 검거 서울 연합뉴스 경찰 관계자들이 19일 오후 서울 강북구 오패산 터널 인근에서 사제 총기를 발사해 경찰을 살해한 용의자 성모씨를 검거하고 있다 성씨는 검거 당시 서바이벌 게임에서 쓰는 방탄조끼에 헬멧까지 착용한 상태였다 독자제공 영상 캡처 연합뉴스  서울 연합뉴스 김은경 기자 사제 총기로 경찰을 살해한 범인 성모 46 씨는 주도면밀했다  경찰에 따르면 성씨는 19일 오후 강북경찰서 인근 부동산 업소 밖에서 부동산업자 이모 67 씨가 나오기를 기다렸다 이씨와는 평소에도 말다툼을 자주 한 것으로 알려졌다  이씨가 나와 걷기 시작하자 성씨는 따라가면서 미리 준비해온 사제 총기를 이씨에게 발사했다 총알이 빗나가면서 이씨는 도망갔다 그 빗나간 총알은 지나가던 행인 71 씨의 배를 스쳤다  성씨는 강북서 인근 치킨집까지 이씨 뒤를 쫓으며 실랑이하다 쓰러뜨린 후 총기와 함께 가져온 망치로 이씨 머리를 때렸다  이 과정에서 오후 6시 20분께 강북구 번동 길 위에서 사람들이 싸우고 있다 총소리가 났다 는 등의 신고가 여러건 들어왔다  5분 후에 성씨의 전자발찌가 훼손됐다는 신고가 보호관찰소 시스템을 통해 들어왔다 성범죄자로 전자발찌를 차고 있던 성씨는 부엌칼로 직접 자신의 발찌를 끊었다  용의자 소지 사제총기 2정 서울 연합뉴스 임헌정 기자 서울 시내에서 폭행 용의자가 현장 조사를 벌이던 경찰관에게 사제총기를 발사해 경찰관이 숨졌다 19일 오후 6시28분 강북구 번동에서 둔기로 맞았다 는 폭행 피해 신고가 접수돼 현장에서 조사하던 강북경찰서 번동파출소 소속 김모 54 경위가 폭행 용의자 성모 45 씨가 쏜 사제총기에 맞고 쓰러진 뒤 병원에 옮겨졌으나 숨졌다 사진은 용의자가 소지한 사제총기  신고를 받고 번동파출소에서 김창호 54 경위 등 경찰들이 오후 6시 29분께 현장으로 출동했다 성씨는 그사이 부동산 앞에 놓아뒀던 가방을 챙겨 오패산 쪽으로 도망간 후였다  김 경위는 오패산 터널 입구 오른쪽의 급경사에서 성씨에게 접근하다가 오후 6시 33분께 풀숲에 숨은 성씨가 허공에 난사한 10여발의 총알 중 일부를 왼쪽 어깨 뒷부분에 맞고 쓰러졌다  김 경위는 구급차가 도착했을 때 이미 의식이 없었고 심폐소생술을 하며 병원으로 옮겨졌으나 총알이 폐를 훼손해 오후 7시 40분께 사망했다  김 경위는 외근용 조끼를 입고 있었으나 총알을 막기에는 역부족이었다  머리에 부상을 입은 이씨도 함께 병원으로 이송됐으나 생명에는 지장이 없는 것으로 알려졌다  성씨는 오패산 터널 밑쪽 숲에서 오후 6시 45분께 잡혔다  총격현장 수색하는 경찰들 서울 연합뉴스 이효석 기자 19일 오후 서울 강북구 오패산 터널 인근에서 경찰들이 폭행 용의자가 사제총기를 발사해 경찰관이 사망한 사건을 조사 하고 있다  총 때문에 쫓던 경관들과 민간인들이 몸을 숨겼는데 인근 신발가게 직원 이모씨가 다가가 성씨를 덮쳤고 이어 현장에 있던 다른 상인들과 경찰이 가세해 체포했다  성씨는 경찰에 붙잡힌 직후 나 자살하려고 한 거다 맞아 죽어도 괜찮다 고 말한 것으로 전해졌다  성씨 자신도 경찰이 발사한 공포탄 1발 실탄 3발 중 실탄 1발을 배에 맞았으나 방탄조끼를 입은 상태여서 부상하지는 않았다  경찰은 인근을 수색해 성씨가 만든 사제총 16정과 칼 7개를 압수했다 실제 폭발할지는 알 수 없는 요구르트병에 무언가를 채워두고 심지를 꽂은 사제 폭탄도 발견됐다  일부는 숲에서 발견됐고 일부는 성씨가 소지한 가방 안에 있었다\n",
      "테헤란 연합뉴스 강훈상 특파원 이용 승객수 기준 세계 최대 공항인 아랍에미리트 두바이국제공항은 19일 현지시간 이 공항을 이륙하는 모든 항공기의 탑승객은 삼성전자의 갤럭시노트7을 휴대하면 안 된다고 밝혔다  두바이국제공항은 여러 항공 관련 기구의 권고에 따라 안전성에 우려가 있는 스마트폰 갤럭시노트7을 휴대하고 비행기를 타면 안 된다 며 탑승 전 검색 중 발견되면 압수할 계획 이라고 발표했다  공항 측은 갤럭시노트7의 배터리가 폭발 우려가 제기된 만큼 이 제품을 갖고 공항 안으로 들어오지 말라고 이용객에 당부했다  이런 조치는 두바이국제공항 뿐 아니라 신공항인 두바이월드센터에도 적용된다  배터리 폭발문제로 회수된 갤럭시노트7 연합뉴스자료사진\n"
     ]
    }
   ],
   "source": [
    "i = 0\n",
    "for document in corpus:\n",
    "  if len(document) > 0:\n",
    "    print(document)\n",
    "    i = i+1\n",
    "  if i == 3:\n",
    "    break"
   ]
  },
  {
   "cell_type": "markdown",
   "id": "9f1a6c4e",
   "metadata": {},
   "source": [
    " soynlp는 학습 기반의 단어 토크나이저이므로 기존의 KoNLPy에서 제공하는 형태소 분석기들과는 달리 학습 과정을 거쳐야 합니다. \\\n",
    " 이는 전체 코퍼스로부터 응집 확률과 브랜칭 엔트로피 단어 점수표를 만드는 과정이다. \\\n",
    " WordExtractor.extract()를 통해서 전체 코퍼스에 대해 단어 점수표를 계산"
   ]
  },
  {
   "cell_type": "code",
   "execution_count": 15,
   "id": "dfec30dc",
   "metadata": {},
   "outputs": [
    {
     "name": "stdout",
     "output_type": "stream",
     "text": [
      "training was done. used memory 0.924 Gb\n",
      "all cohesion probabilities was computed. # words = 223348\n",
      "all branching entropies was computed # words = 361598\n",
      "all accessor variety was computed # words = 361598\n"
     ]
    }
   ],
   "source": [
    "word_extractor = WordExtractor()\n",
    "word_extractor.train(corpus)\n",
    "word_score_table = word_extractor.extract()"
   ]
  },
  {
   "cell_type": "markdown",
   "id": "f81d2973",
   "metadata": {},
   "source": [
    "응집 확률은 내부 문자열(substring)이 얼마나 응집하여 자주 등장하는지를 판단하는 척도이다. \\\n",
    "응집 확률은 문자열을 문자 단위로 분리하여 내부 문자열을 만드는 과정에서 왼쪽부터 순서대로 문자를 추가하면서 각 문자열이 주어졌을 때\\\n",
    "그 다음 문자가 나올 확률을 계산하여 누적곱을 한 값이다. \\\n",
    "이 값이 높을수록 전체 코퍼스에서 이 문자열 시퀀스는 하나의 단어로 등장할 가능성이 높다    "
   ]
  },
  {
   "cell_type": "code",
   "execution_count": 16,
   "id": "aa29c3d6",
   "metadata": {},
   "outputs": [
    {
     "data": {
      "text/plain": [
       "0.08838002913645132"
      ]
     },
     "execution_count": 16,
     "metadata": {},
     "output_type": "execute_result"
    }
   ],
   "source": [
    "word_score_table[\"반포한\"].cohesion_forward"
   ]
  },
  {
   "cell_type": "code",
   "execution_count": 17,
   "id": "fef95127",
   "metadata": {},
   "outputs": [
    {
     "data": {
      "text/plain": [
       "0.19841268168224552"
      ]
     },
     "execution_count": 17,
     "metadata": {},
     "output_type": "execute_result"
    }
   ],
   "source": [
    "word_score_table[\"반포한강\"].cohesion_forward"
   ]
  },
  {
   "cell_type": "code",
   "execution_count": 18,
   "id": "f2ba9ddd",
   "metadata": {},
   "outputs": [
    {
     "data": {
      "text/plain": [
       "0.2972877884078849"
      ]
     },
     "execution_count": 18,
     "metadata": {},
     "output_type": "execute_result"
    }
   ],
   "source": [
    "word_score_table[\"반포한강공\"].cohesion_forward"
   ]
  },
  {
   "cell_type": "code",
   "execution_count": 20,
   "id": "65c3f16d",
   "metadata": {},
   "outputs": [
    {
     "data": {
      "text/plain": [
       "0.37891487632839754"
      ]
     },
     "execution_count": 20,
     "metadata": {},
     "output_type": "execute_result"
    }
   ],
   "source": [
    "word_score_table[\"반포한강공원\"].cohesion_forward"
   ]
  },
  {
   "cell_type": "code",
   "execution_count": 19,
   "id": "45856441",
   "metadata": {},
   "outputs": [
    {
     "data": {
      "text/plain": [
       "0.33492963377557666"
      ]
     },
     "execution_count": 19,
     "metadata": {},
     "output_type": "execute_result"
    }
   ],
   "source": [
    "word_score_table[\"반포한강공원에\"].cohesion_forward"
   ]
  },
  {
   "cell_type": "markdown",
   "id": "419d9113",
   "metadata": {},
   "source": [
    "\"반포한강공원\"의 응집도가 \"반포한강공원에\"의 응집도보다 높으므로 가장 적합한 문자열은 \"반포한강공원\"이라고 볼 수 있다."
   ]
  },
  {
   "cell_type": "markdown",
   "id": "2b10e933",
   "metadata": {},
   "source": [
    "4. SOYNLP의 브랜칭 엔트로피(branching entropy)"
   ]
  },
  {
   "cell_type": "markdown",
   "id": "2b911449",
   "metadata": {},
   "source": [
    "Branching Entropy는 확률 분포의 엔트로피값을 사용한다. \\\n",
    "이는 주어진 문자열에서 얼마나 다음 문자가 등장할 수 있는지를 판단하는 척도이다. \\\n",
    "브랜칭 엔트로피를 주어진 문자 시퀀스에서 다음 문자 예측을 위해 헷갈리는 정도로 비유해보자. \\\n",
    "브랜칭 엔트로피의 값은 하나의 완성된 단어에 가까워질수록 문맥으로 인해 점점 정확히 예측할 수 있게 되면서 점점 줄어드는 양상을 보인다."
   ]
  },
  {
   "cell_type": "code",
   "execution_count": 21,
   "id": "4f6a6315",
   "metadata": {},
   "outputs": [
    {
     "data": {
      "text/plain": [
       "1.6371694761537934"
      ]
     },
     "execution_count": 21,
     "metadata": {},
     "output_type": "execute_result"
    }
   ],
   "source": [
    "word_score_table[\"디스\"].right_branching_entropy"
   ]
  },
  {
   "cell_type": "code",
   "execution_count": 22,
   "id": "64875175",
   "metadata": {},
   "outputs": [
    {
     "data": {
      "text/plain": [
       "-0.0"
      ]
     },
     "execution_count": 22,
     "metadata": {},
     "output_type": "execute_result"
    }
   ],
   "source": [
    "word_score_table[\"디스플\"].right_branching_entropy"
   ]
  },
  {
   "cell_type": "code",
   "execution_count": 23,
   "id": "7c967789",
   "metadata": {},
   "outputs": [
    {
     "data": {
      "text/plain": [
       "-0.0"
      ]
     },
     "execution_count": 23,
     "metadata": {},
     "output_type": "execute_result"
    }
   ],
   "source": [
    "word_score_table[\"디스플레\"].right_branching_entropy"
   ]
  },
  {
   "cell_type": "code",
   "execution_count": 24,
   "id": "322385b6",
   "metadata": {},
   "outputs": [
    {
     "data": {
      "text/plain": [
       "3.1400392861792916"
      ]
     },
     "execution_count": 24,
     "metadata": {},
     "output_type": "execute_result"
    }
   ],
   "source": [
    "word_score_table[\"디스플레이\"].right_branching_entropy"
   ]
  },
  {
   "cell_type": "markdown",
   "id": "e3c2b296",
   "metadata": {},
   "source": [
    "'디스플레이'라는 문자 시퀀스 다음에는 조사나 다른 단어와 같은 다양한 경우가 있을 수 있기때문에 엔트로피 값이 증가하였다. \\\n",
    "이는 하나의 단어가 끝나면 그 경계 부분부터 다시 브랜칭 엔트로피 값이 증가하게 됨을 의미한다."
   ]
  },
  {
   "cell_type": "markdown",
   "id": "d1c89385",
   "metadata": {},
   "source": [
    "5. SOYNLP의 L tokenizer"
   ]
  },
  {
   "cell_type": "markdown",
   "id": "39da6974",
   "metadata": {},
   "source": [
    "한국어는 띄어쓰기 단위로 나눈 어절 토큰은 주로 L 토큰 + R 토큰의 형식을 가질 때가 많다. \\\n",
    "예를 들어서 '공원에'는 '공원 + 에'로 나눌 수 있고, 또는 '공부하는'은 '공부 + 하는'으로 나눌 수도 있을 것이다. \\\n",
    "L 토크나이저는 L 토큰 + R 토큰으로 나누되, 분리 기준을 점수가 가장 높은 L 토큰을 찾아내는 원리를 가지고 있다."
   ]
  },
  {
   "cell_type": "code",
   "execution_count": 26,
   "id": "51308361",
   "metadata": {},
   "outputs": [
    {
     "data": {
      "text/plain": [
       "[('국제사회', '와'), ('우리', '의'), ('노력', '들로'), ('범죄', '를'), ('척결', '하자')]"
      ]
     },
     "execution_count": 26,
     "metadata": {},
     "output_type": "execute_result"
    }
   ],
   "source": [
    "from soynlp.tokenizer import LTokenizer\n",
    "\n",
    "scores = {word:score.cohesion_forward for word, score in word_score_table.items()}\n",
    "l_tokenizer = LTokenizer(scores=scores)\n",
    "l_tokenizer.tokenize(\"국제사회와 우리의 노력들로 범죄를 척결하자\", flatten=False)"
   ]
  },
  {
   "cell_type": "markdown",
   "id": "41e5d1fc",
   "metadata": {},
   "source": [
    "6. 최대 점수 토크나이저\n",
    "* 최대 점수 토크나이저는 띄어쓰기가 되지 않는 문장에서 점수가 높은 글자 시퀀스를 순차적으로 찾아내는 토크나이저이다."
   ]
  },
  {
   "cell_type": "code",
   "execution_count": 27,
   "id": "9741ecf0",
   "metadata": {},
   "outputs": [
    {
     "data": {
      "text/plain": [
       "['국제사회', '와', '우리', '의', '노력', '들로', '범죄', '를', '척결', '하자']"
      ]
     },
     "execution_count": 27,
     "metadata": {},
     "output_type": "execute_result"
    }
   ],
   "source": [
    "from soynlp.tokenizer import MaxScoreTokenizer\n",
    "\n",
    "maxscore_tokenizer = MaxScoreTokenizer(scores=scores)\n",
    "maxscore_tokenizer.tokenize(\"국제사회와우리의노력들로범죄를척결하자\")"
   ]
  },
  {
   "cell_type": "markdown",
   "id": "95587719",
   "metadata": {},
   "source": [
    "4. SOYNLP를 이용한 반복되는 문자 정제\n",
    "* SNS나 채팅 데이터와 같은 한국어 데이터의 경우에는 ㅋㅋ,ㅎㅎ등의 이모티콘의 경우 불필요하게 연속되는 경우가 많다. \\\n",
    "ㅋㅋ,ㅋㅋㅋ,ㅋㅋㅋㅋ와 같은 경우를 모두 서로 다른 단어로 처리하는것은 불필요하다. 이에 반복되는 단어를 하나로 정규화시킨다."
   ]
  },
  {
   "cell_type": "code",
   "execution_count": 28,
   "id": "3e49eedd",
   "metadata": {},
   "outputs": [],
   "source": [
    "from soynlp.normalizer import *"
   ]
  },
  {
   "cell_type": "code",
   "execution_count": 29,
   "id": "9bac2552",
   "metadata": {},
   "outputs": [
    {
     "name": "stdout",
     "output_type": "stream",
     "text": [
      "아ㅋㅋ영화존잼쓰ㅠㅠ\n",
      "아ㅋㅋ영화존잼쓰ㅠㅠ\n",
      "아ㅋㅋ영화존잼쓰ㅠㅠ\n",
      "아ㅋㅋ영화존잼쓰ㅠㅠ\n"
     ]
    }
   ],
   "source": [
    "print(emoticon_normalize('앜ㅋㅋㅋㅋ이영화존잼쓰ㅠㅠㅠㅠㅠ', num_repeats=2)) # num_repeats는 반복 횟수를 말한다.\n",
    "print(emoticon_normalize('앜ㅋㅋㅋㅋㅋㅋㅋㅋㅋ이영화존잼쓰ㅠㅠㅠㅠ', num_repeats=2))\n",
    "print(emoticon_normalize('앜ㅋㅋㅋㅋㅋㅋㅋㅋㅋㅋㅋㅋ이영화존잼쓰ㅠㅠㅠㅠㅠㅠ', num_repeats=2))\n",
    "print(emoticon_normalize('앜ㅋㅋㅋㅋㅋㅋㅋㅋㅋㅋㅋㅋㅋㅋㅋㅋㅋ이영화존잼쓰ㅠㅠㅠㅠㅠㅠㅠㅠ', num_repeats=2))"
   ]
  },
  {
   "cell_type": "code",
   "execution_count": 32,
   "id": "12611feb",
   "metadata": {},
   "outputs": [
    {
     "name": "stdout",
     "output_type": "stream",
     "text": [
      "와하하하핫\n",
      "와하하핫\n",
      "와하하핫\n"
     ]
    }
   ],
   "source": [
    "print(repeat_normalize('와하하하하하하하하하핫', num_repeats=2))\n",
    "print(repeat_normalize('와하하하하하하핫', num_repeats=2))\n",
    "print(repeat_normalize('와하하하하핫', num_repeats=2))"
   ]
  },
  {
   "cell_type": "markdown",
   "id": "5ccc9b5e",
   "metadata": {},
   "source": [
    "5. Customized KoNLPy\n",
    "* 만약 형태소 분석 입력 : '은경이는 사무실로 갔습니다.' \\\n",
    "형태소 분석 결과 : ['은', '경이', '는', '사무실', '로', '갔습니다', '.'] 와 같은 결과가 나왔을때 \\\n",
    "형태소 분석기에 사용자 사전을 추가해줄 수 있다."
   ]
  },
  {
   "cell_type": "code",
   "execution_count": 33,
   "id": "eb9c9cf3",
   "metadata": {},
   "outputs": [
    {
     "name": "stdout",
     "output_type": "stream",
     "text": [
      "Collecting customized_konlpyNote: you may need to restart the kernel to use updated packages.\n",
      "\n",
      "  Downloading customized_konlpy-0.0.64-py3-none-any.whl (881 kB)\n",
      "     -------------------------------------- 881.5/881.5 kB 9.3 MB/s eta 0:00:00\n",
      "Requirement already satisfied: Jpype1>=0.6.1 in c:\\users\\rladu\\anaconda3\\envs\\my_env\\lib\\site-packages (from customized_konlpy) (1.4.1)\n",
      "Requirement already satisfied: konlpy>=0.4.4 in c:\\users\\rladu\\anaconda3\\envs\\my_env\\lib\\site-packages (from customized_konlpy) (0.6.0)\n",
      "Requirement already satisfied: packaging in c:\\users\\rladu\\anaconda3\\envs\\my_env\\lib\\site-packages (from Jpype1>=0.6.1->customized_konlpy) (21.3)\n",
      "Requirement already satisfied: numpy>=1.6 in c:\\users\\rladu\\anaconda3\\envs\\my_env\\lib\\site-packages (from konlpy>=0.4.4->customized_konlpy) (1.23.3)\n",
      "Requirement already satisfied: lxml>=4.1.0 in c:\\users\\rladu\\anaconda3\\envs\\my_env\\lib\\site-packages (from konlpy>=0.4.4->customized_konlpy) (4.9.1)\n",
      "Requirement already satisfied: pyparsing!=3.0.5,>=2.0.2 in c:\\users\\rladu\\anaconda3\\envs\\my_env\\lib\\site-packages (from packaging->Jpype1>=0.6.1->customized_konlpy) (3.0.9)\n",
      "Installing collected packages: customized_konlpy\n",
      "Successfully installed customized_konlpy-0.0.64\n"
     ]
    }
   ],
   "source": [
    "pip install customized_konlpy"
   ]
  },
  {
   "cell_type": "code",
   "execution_count": 34,
   "id": "9c0d4bcd",
   "metadata": {},
   "outputs": [
    {
     "name": "stderr",
     "output_type": "stream",
     "text": [
      "C:\\Users\\rladu\\anaconda3\\envs\\my_env\\lib\\site-packages\\konlpy\\tag\\_okt.py:17: UserWarning: \"Twitter\" has changed to \"Okt\" since KoNLPy v0.4.5.\n",
      "  warn('\"Twitter\" has changed to \"Okt\" since KoNLPy v0.4.5.')\n"
     ]
    },
    {
     "data": {
      "text/plain": [
       "['은', '경이', '는', '사무실', '로', '갔습니다', '.']"
      ]
     },
     "execution_count": 34,
     "metadata": {},
     "output_type": "execute_result"
    }
   ],
   "source": [
    "from ckonlpy.tag import Twitter\n",
    "twitter = Twitter()\n",
    "twitter.morphs('은경이는 사무실로 갔습니다.')"
   ]
  },
  {
   "cell_type": "code",
   "execution_count": 36,
   "id": "f7161f70",
   "metadata": {},
   "outputs": [],
   "source": [
    "twitter.add_dictionary('은경이','Noun')"
   ]
  },
  {
   "cell_type": "code",
   "execution_count": 37,
   "id": "6c466520",
   "metadata": {},
   "outputs": [
    {
     "data": {
      "text/plain": [
       "['은경이', '는', '사무실', '로', '갔습니다', '.']"
      ]
     },
     "execution_count": 37,
     "metadata": {},
     "output_type": "execute_result"
    }
   ],
   "source": [
    "twitter.morphs('은경이는 사무실로 갔습니다.')"
   ]
  },
  {
   "cell_type": "markdown",
   "id": "3eb38946",
   "metadata": {},
   "source": [
    "'은경이'라는 단어가 제대로 하나의 토큰으로 인식되는 것을 확인할 수 있다."
   ]
  }
 ],
 "metadata": {
  "kernelspec": {
   "display_name": "my_env",
   "language": "python",
   "name": "my_env"
  },
  "language_info": {
   "codemirror_mode": {
    "name": "ipython",
    "version": 3
   },
   "file_extension": ".py",
   "mimetype": "text/x-python",
   "name": "python",
   "nbconvert_exporter": "python",
   "pygments_lexer": "ipython3",
   "version": "3.10.6"
  }
 },
 "nbformat": 4,
 "nbformat_minor": 5
}
