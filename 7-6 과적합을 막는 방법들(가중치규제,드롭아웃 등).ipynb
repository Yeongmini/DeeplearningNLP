{
 "cells": [
  {
   "cell_type": "markdown",
   "id": "2f28035a",
   "metadata": {},
   "source": [
    "7-6 과적합(Overfitting)을 막는 방법들"
   ]
  },
  {
   "cell_type": "markdown",
   "id": "547294b7",
   "metadata": {},
   "source": [
    "1. 데이터의 양을 늘리기"
   ]
  },
  {
   "cell_type": "markdown",
   "id": "67a87675",
   "metadata": {},
   "source": [
    "모델은 데이터 양이 적을 경우, 해당 데이터의 패턴이나 노이즈까지 암기하기 때문에 과적합 현상이 발생할 확률이 높다. \\\n",
    "그렇기 때문에 데이터의 양을 늘릴 수록 모델은 데이터의 일반적인 패턴을 학습하여 과적합을 방지할 수 있다. \\ \n",
    "데이터의 양이 적을 경우에는 의도적으로 기존의 데이터를 조금씩 변형하고 추가하여 데이터의 양을 늘리기도 하는데 이를 데이터 증식 또는 증강이라고 한다. \\\n",
    "텍스트의 경우에는 데이터를 증강하는 방법으로 번역 후 재번역을 통해 새로운 데이터를 만들어내는 역번역(Back Translation) 등의 방법이 있다."
   ]
  },
  {
   "cell_type": "markdown",
   "id": "44d45fe7",
   "metadata": {},
   "source": [
    "2. 모델의 복잡도 줄이기"
   ]
  },
  {
   "cell_type": "markdown",
   "id": "795502a4",
   "metadata": {},
   "source": [
    "인공 신경망의 복잡도는 은닉층의 수나 매개변수의 수 등으로 결정된다. 과적합 현상이 포착되었을 때 , 인공 신경망 모델에 대해서 할 수 있는 한 가지 조치는 인공 신경망의 복잡도를 줄이는것 이다. \\\n",
    "인공 신경망에서는 모델에 있는 매개변수들의 수를 모델의 수용력이라고 한다."
   ]
  },
  {
   "cell_type": "markdown",
   "id": "8e0615a6",
   "metadata": {},
   "source": [
    "3. 가중치 규제(Regularization) 적용하기"
   ]
  },
  {
   "cell_type": "markdown",
   "id": "bdb3f558",
   "metadata": {},
   "source": [
    "복잡한 모델을 좀 더 간단하게 하는 방법으로는 가중치 규제가 있다. \\\n",
    "L1 규제 - 가중치 w들의 절대값 합계를 비용 함수에 추가한다. L1-norm 이라고도 한다. \\\n",
    "L2 규제 - 모든 가중치 w들의 제곱합을 비용 함수에 추가한다. L2-norm 이라고도 한다. \\\n"
   ]
  },
  {
   "cell_type": "markdown",
   "id": "4947c0c8",
   "metadata": {},
   "source": [
    "4. 드롭아웃(Dropout)"
   ]
  },
  {
   "cell_type": "markdown",
   "id": "7545525b",
   "metadata": {},
   "source": [
    "드롭아웃은 학습 과정에서 신경망의 일부를 사용하지 않는 방법이다. \\\n",
    "예를 들어 드롭아웃의 비율을 0.5로 한다면 학습 과정마다 랜덤으로 절반의 뉴런을 사용하지 않고, 절반의 뉴런만을 사용하는 것 이다. \\\n",
    "드롭아웃은 신경망 학습 시에만 사용하고, 예측 시에는 사용하지 않는 것이 일반적이다. \\\n",
    "학습 시에 인공 신경망이 특정 뉴런 또는 특정 조합에 의존하는 것을 방지하고, 매번 랜덤 선택으로 뉴런들을 사용하지 않으므로 서로 다른 신경망들을 앙상블하여 사용하는 것 같은 효과를 내어 과적합을 방지한다."
   ]
  },
  {
   "cell_type": "code",
   "execution_count": 1,
   "id": "ea797c8c",
   "metadata": {},
   "outputs": [],
   "source": [
    "from tensorflow.keras.models import Sequential\n",
    "from tensorflow.keras.layers import Dropout, Dense\n",
    "\n",
    "max_words = 10000\n",
    "num_classes = 46\n",
    "\n",
    "model = Sequential()\n",
    "model.add(Dense(256, input_shape=(max_words, ), activation = 'relu'))\n",
    "model.add(Dropout(0.5)) # 드롭아웃 추가. 비율은 50%\n",
    "model.add(Dense(128, activation = 'relu'))\n",
    "model.add(Dropout(0.5))\n",
    "model.add(Dense(num_classes, activation = 'softmax'))"
   ]
  },
  {
   "cell_type": "code",
   "execution_count": null,
   "id": "5c71965f",
   "metadata": {},
   "outputs": [],
   "source": []
  }
 ],
 "metadata": {
  "kernelspec": {
   "display_name": "my_env",
   "language": "python",
   "name": "my_env"
  },
  "language_info": {
   "codemirror_mode": {
    "name": "ipython",
    "version": 3
   },
   "file_extension": ".py",
   "mimetype": "text/x-python",
   "name": "python",
   "nbconvert_exporter": "python",
   "pygments_lexer": "ipython3",
   "version": "3.10.6"
  }
 },
 "nbformat": 4,
 "nbformat_minor": 5
}
