{
 "cells": [
  {
   "cell_type": "markdown",
   "id": "0e1e8ca7",
   "metadata": {},
   "source": [
    "3-1. 언어모델(Language Model)\n",
    "* 언어모델(LM)은 언어라는 현상을 모델링하고자 단어 시퀀스(문장)에 확률을 할당(assign)하는 모델 \\\n",
    "언어모델을 만드는 방법은 크게 통계를 이용한 방법과 인공 신경망을 이용한 방법이 있다. \\\n",
    "최근에는 인공 신경망을 이용한 방법이 더 좋은 성능을 보인다. ex) GPT, BERT"
   ]
  },
  {
   "cell_type": "markdown",
   "id": "cb6ba26c",
   "metadata": {},
   "source": [
    "언어 모델은 단어 시퀀스에 확률을 할당하는 일을 하는 모델인데 풀어쓰면 가장 자연스러운 단어 시퀀스를 찾아내는 모델이다. \\\n",
    "단어 시퀀스에 확률을 할당하게 하기 위해서 가장 보편적으로 사용되는 방법은 언어모델이 이전 단어들이 주어졌을 때 다음 단어를 예측하도록 하는 것 이다."
   ]
  },
  {
   "cell_type": "markdown",
   "id": "1de9ea20",
   "metadata": {},
   "source": [
    "2. 단어 시퀀스의 확률 할당 \\\n",
    "\\\n",
    "(a) 기계 번역 \\\n",
    "P(나는 버스를 탔다) > P(나는 버스를 태운다) \\\n",
    "\\\n",
    "(b) 오타 교정 \\\n",
    "선생님이 교실로 부리나케 \\\n",
    "P(달려갔다) > P(잘려갔다) \\\n",
    "\\\n",
    "(c) 음석 인식 \\\n",
    "P(나는 메롱을 먹는다) < P(나는 메론을 먹는다)\n"
   ]
  },
  {
   "cell_type": "markdown",
   "id": "012f6366",
   "metadata": {},
   "source": [
    "3. 언어모델의 간단한 직관 \\\n",
    "앞에 어떤 단어들이 나왔는지 고려하여 후보가 될 수 있는 여러 단어들에 대해서 등장 확률을 추정하고 가장 높은 확률을 가진 단어를 선택한다. \\\n",
    "ex) 비행기를 타려고 공항에 갔는데 지각을 하는 바람에 비행기를 [?] \\\n",
    "'놓쳤다'라는 단어가 나올 확률이 가장 크기때문에 이 단어를 선택하는 것"
   ]
  },
  {
   "cell_type": "markdown",
   "id": "f5eed651",
   "metadata": {},
   "source": [
    "4. 검색 엔진에서의 언어 모델의 예 \\\n",
    "검색엔진에서 입력된 단어들의 나열에 대해서 다음 단어를 예측하는 언어 모델을 사용한다."
   ]
  }
 ],
 "metadata": {
  "kernelspec": {
   "display_name": "my_env",
   "language": "python",
   "name": "my_env"
  },
  "language_info": {
   "codemirror_mode": {
    "name": "ipython",
    "version": 3
   },
   "file_extension": ".py",
   "mimetype": "text/x-python",
   "name": "python",
   "nbconvert_exporter": "python",
   "pygments_lexer": "ipython3",
   "version": "3.10.6"
  }
 },
 "nbformat": 4,
 "nbformat_minor": 5
}
