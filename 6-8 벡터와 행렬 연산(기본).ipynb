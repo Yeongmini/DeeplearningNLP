{
 "cells": [
  {
   "cell_type": "markdown",
   "id": "7ba0a5a3",
   "metadata": {},
   "source": [
    "6-8 벡터와 행렬 연산"
   ]
  },
  {
   "cell_type": "markdown",
   "id": "9270b3cc",
   "metadata": {},
   "source": [
    "다음 실습인 소프트맥스 회귀에서는 종속 변수 y의 종류도 3개 이상이 되면서 더욱 복잡해진다. 이러한 식들이 겹겹이 누적되면 \\\n",
    "인공신경망의 개념이 된다."
   ]
  },
  {
   "cell_type": "markdown",
   "id": "00b3b15b",
   "metadata": {},
   "source": [
    "2.텐서(Tensor)"
   ]
  },
  {
   "cell_type": "code",
   "execution_count": 1,
   "id": "2690300f",
   "metadata": {},
   "outputs": [],
   "source": [
    "import numpy as np"
   ]
  },
  {
   "cell_type": "markdown",
   "id": "fd27f218",
   "metadata": {},
   "source": [
    "1) 0차원 텐서(스칼라)\n",
    "* 스칼라는 하나의 실수값으로 이루어진 데이터를 말한다. 이를 0차원 텐서라고 한다."
   ]
  },
  {
   "cell_type": "code",
   "execution_count": 2,
   "id": "8ed274ed",
   "metadata": {},
   "outputs": [
    {
     "name": "stdout",
     "output_type": "stream",
     "text": [
      "텐서의 차원 : 0\n",
      "텐서의 크기(shape) : ()\n"
     ]
    }
   ],
   "source": [
    "d = np.array(5)\n",
    "print('텐서의 차원 :',d.ndim)\n",
    "print('텐서의 크기(shape) :',d.shape)"
   ]
  },
  {
   "cell_type": "markdown",
   "id": "368bd154",
   "metadata": {},
   "source": [
    "Numpy의 ndim을 출력했을 때 나오는 값에 주목한다. ndim을 출력했을 때 나오는 값을 우리는 축(axis)의 개수 또는 \\\n",
    "텐서의 차원이라고 부른다."
   ]
  },
  {
   "cell_type": "markdown",
   "id": "6bec6205",
   "metadata": {},
   "source": [
    "2) 1차원 텐서(벡터)"
   ]
  },
  {
   "cell_type": "code",
   "execution_count": 4,
   "id": "14c2481e",
   "metadata": {},
   "outputs": [
    {
     "name": "stdout",
     "output_type": "stream",
     "text": [
      "텐서의 차원 : 1\n",
      "텐서의 크기(shape) : (4,)\n"
     ]
    }
   ],
   "source": [
    "d = np.array([1, 2, 3, 4])\n",
    "print('텐서의 차원 :',d.ndim)\n",
    "print('텐서의 크기(shape) :',d.shape)\n",
    "\n",
    "# 4차원이지만, 1차원 텐서(1D 텐서)"
   ]
  },
  {
   "cell_type": "markdown",
   "id": "1c2ea82c",
   "metadata": {},
   "source": [
    "3) 2차원 텐서(행렬)\n",
    "* 행과 열이 존재하는 벡터의 배열. 즉, 행렬(matrix)을 2차원 텐서라고 합니다. 2D 텐서라고도 한다."
   ]
  },
  {
   "cell_type": "code",
   "execution_count": 5,
   "id": "391b4d14",
   "metadata": {},
   "outputs": [
    {
     "name": "stdout",
     "output_type": "stream",
     "text": [
      "텐서의 차원 : 2\n",
      "텐서의 크기(shape) : (3, 4)\n"
     ]
    }
   ],
   "source": [
    "# 3행 4열의 행렬\n",
    "d = np.array([[1, 2, 3, 4], [5, 6, 7, 8], [9, 10, 11, 12]])\n",
    "print('텐서의 차원 :',d.ndim)\n",
    "print('텐서의 크기(shape) :',d.shape)"
   ]
  },
  {
   "cell_type": "markdown",
   "id": "0b3e3738",
   "metadata": {},
   "source": [
    "3개의 커다란 데이터가 있는데 그 각각의 커다란 데이터는 작은 데이터 4개로 이루어졌다고 생각할 수 있다."
   ]
  },
  {
   "cell_type": "markdown",
   "id": "2ca8b12e",
   "metadata": {},
   "source": [
    "4) 3차원 텐서(다차원 배열)\n",
    "* 행렬 또는 2차원 텐서를 단위로 한 번 더 배열하면 3차원 텐서라고 부른다. 3D 텐서라고도 한다."
   ]
  },
  {
   "cell_type": "code",
   "execution_count": 6,
   "id": "44963780",
   "metadata": {},
   "outputs": [
    {
     "name": "stdout",
     "output_type": "stream",
     "text": [
      "텐서의 차원 : 3\n",
      "텐서의 크기(shape) : (2, 3, 5)\n"
     ]
    }
   ],
   "source": [
    "d = np.array([\n",
    "            [[1, 2, 3, 4, 5], [6, 7, 8, 9, 10], [10, 11, 12, 13, 14]],\n",
    "            [[15, 16, 17, 18, 19], [19, 20, 21, 22, 23], [23, 24, 25, 26, 27]]\n",
    "            ])\n",
    "print('텐서의 차원 :',d.ndim)\n",
    "print('텐서의 크기(shape) :',d.shape)"
   ]
  },
  {
   "cell_type": "code",
   "execution_count": 7,
   "id": "26dcc938",
   "metadata": {},
   "outputs": [],
   "source": []
  },
  {
   "cell_type": "markdown",
   "id": "93cba1ef",
   "metadata": {},
   "source": []
  },
  {
   "cell_type": "code",
   "execution_count": null,
   "id": "80e7622c",
   "metadata": {},
   "outputs": [],
   "source": []
  },
  {
   "cell_type": "code",
   "execution_count": null,
   "id": "3ecb52b4",
   "metadata": {},
   "outputs": [],
   "source": []
  },
  {
   "cell_type": "code",
   "execution_count": null,
   "id": "093bbb56",
   "metadata": {},
   "outputs": [],
   "source": []
  }
 ],
 "metadata": {
  "kernelspec": {
   "display_name": "my_env",
   "language": "python",
   "name": "my_env"
  },
  "language_info": {
   "codemirror_mode": {
    "name": "ipython",
    "version": 3
   },
   "file_extension": ".py",
   "mimetype": "text/x-python",
   "name": "python",
   "nbconvert_exporter": "python",
   "pygments_lexer": "ipython3",
   "version": "3.10.6"
  }
 },
 "nbformat": 4,
 "nbformat_minor": 5
}
