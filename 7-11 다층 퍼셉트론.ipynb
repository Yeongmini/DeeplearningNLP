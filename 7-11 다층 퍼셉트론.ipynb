{
 "cells": [
  {
   "cell_type": "markdown",
   "id": "564cccb1",
   "metadata": {},
   "source": [
    "7-11. 다층 퍼셉트론(MultiLayer Perceptron, MLP)으로 텍스트 분류하기"
   ]
  },
  {
   "cell_type": "markdown",
   "id": "126b35ab",
   "metadata": {},
   "source": [
    "1. 다층 퍼셉트론(MultiLayer Perceptron, MLP)\n",
    "* 단층 퍼셉트론에서 은닉층이 1개 이상 추가된 신경망을 다층 퍼셉트론(MLP)라고 한다. 다층 퍼셉트론은 피드 포워드 신경망(FFNN)의 기본적인 형태이다.\\\n",
    "여기서 피드포워드신경망은 입력층에서 출력층으로 오직 한 방향으로만 연산 방향이 정해져 있는 신경망을 말한다."
   ]
  },
  {
   "cell_type": "markdown",
   "id": "9633b016",
   "metadata": {},
   "source": [
    "2. 케라스의 texts_to_matrix() 이해하기"
   ]
  },
  {
   "cell_type": "code",
   "execution_count": 1,
   "id": "ea8288d5",
   "metadata": {},
   "outputs": [],
   "source": [
    "import numpy as np\n",
    "from tensorflow.keras.preprocessing.text import Tokenizer"
   ]
  },
  {
   "cell_type": "code",
   "execution_count": 2,
   "id": "0941c6ae",
   "metadata": {},
   "outputs": [],
   "source": [
    "texts = ['먹고 싶은 사과','먹고 싶은 바나나','길고 노란 바나나 바나나','저는 과일이 좋아요']"
   ]
  },
  {
   "cell_type": "code",
   "execution_count": 3,
   "id": "a7310dc8",
   "metadata": {},
   "outputs": [
    {
     "name": "stdout",
     "output_type": "stream",
     "text": [
      "{'바나나': 1, '먹고': 2, '싶은': 3, '사과': 4, '길고': 5, '노란': 6, '저는': 7, '과일이': 8, '좋아요': 9}\n"
     ]
    }
   ],
   "source": [
    "tokenizer = Tokenizer()\n",
    "tokenizer.fit_on_texts(texts)\n",
    "print(tokenizer.word_index)"
   ]
  },
  {
   "cell_type": "markdown",
   "id": "bdeddc1f",
   "metadata": {},
   "source": [
    "텍스트 데이터에 texts_to_matrix()를 사용해본다. \\\n",
    "총 4개의 모드를 지원하는데, 'binary','count','freq','tfidf' 이렇게 4개가 있다."
   ]
  },
  {
   "cell_type": "code",
   "execution_count": 9,
   "id": "4c07aaa0",
   "metadata": {},
   "outputs": [
    {
     "name": "stdout",
     "output_type": "stream",
     "text": [
      "[[0. 0. 1. 1. 1. 0. 0. 0. 0. 0.]\n",
      " [0. 1. 1. 1. 0. 0. 0. 0. 0. 0.]\n",
      " [0. 2. 0. 0. 0. 1. 1. 0. 0. 0.]\n",
      " [0. 0. 0. 0. 0. 0. 0. 1. 1. 1.]]\n"
     ]
    }
   ],
   "source": [
    "print(tokenizer.texts_to_matrix(texts, mode = 'count'))\n",
    "# mode = count 를 사용하면 DTM 생성"
   ]
  },
  {
   "cell_type": "markdown",
   "id": "8fa72d4b",
   "metadata": {},
   "source": [
    "주의할점으로, 단어에 부여된 인덱스는 1부터 시작하는 반면에 완성되는 행렬의 인덱스는 0부터 시작한다.\\\n",
    "실제로 단어의 수는 9개였지만, 완성된 행렬의 열의 갯수는 10개이고 첫번째 열은 모든 행에서 값이 0이다."
   ]
  },
  {
   "cell_type": "code",
   "execution_count": 10,
   "id": "25cc24e3",
   "metadata": {},
   "outputs": [
    {
     "name": "stdout",
     "output_type": "stream",
     "text": [
      "[[0. 0. 1. 1. 1. 0. 0. 0. 0. 0.]\n",
      " [0. 1. 1. 1. 0. 0. 0. 0. 0. 0.]\n",
      " [0. 1. 0. 0. 0. 1. 1. 0. 0. 0.]\n",
      " [0. 0. 0. 0. 0. 0. 0. 1. 1. 1.]]\n"
     ]
    }
   ],
   "source": [
    "print(tokenizer.texts_to_matrix(texts, mode = 'binary'))"
   ]
  },
  {
   "cell_type": "markdown",
   "id": "b065667c",
   "metadata": {},
   "source": [
    "mode = 'binary'는 mode = 'count'와 유사하나, 단어의 존재 유무에만 관심이 있어서 단어가 몇개였는지는 무시한다."
   ]
  },
  {
   "cell_type": "code",
   "execution_count": 11,
   "id": "34ad1ebe",
   "metadata": {},
   "outputs": [
    {
     "name": "stdout",
     "output_type": "stream",
     "text": [
      "[[0.   0.   0.85 0.85 1.1  0.   0.   0.   0.   0.  ]\n",
      " [0.   0.85 0.85 0.85 0.   0.   0.   0.   0.   0.  ]\n",
      " [0.   1.43 0.   0.   0.   1.1  1.1  0.   0.   0.  ]\n",
      " [0.   0.   0.   0.   0.   0.   0.   1.1  1.1  1.1 ]]\n"
     ]
    }
   ],
   "source": [
    "print(tokenizer.texts_to_matrix(texts, mode = 'tfidf').round(2)) # 둘째 자리까지 반올림하여 출력"
   ]
  },
  {
   "cell_type": "markdown",
   "id": "4f14eb39",
   "metadata": {},
   "source": [
    "tfidf 값이 높을수록 중요도가 높은 단어이다."
   ]
  },
  {
   "cell_type": "code",
   "execution_count": 12,
   "id": "b0468661",
   "metadata": {},
   "outputs": [
    {
     "name": "stdout",
     "output_type": "stream",
     "text": [
      "[[0.   0.   0.33 0.33 0.33 0.   0.   0.   0.   0.  ]\n",
      " [0.   0.33 0.33 0.33 0.   0.   0.   0.   0.   0.  ]\n",
      " [0.   0.5  0.   0.   0.   0.25 0.25 0.   0.   0.  ]\n",
      " [0.   0.   0.   0.   0.   0.   0.   0.33 0.33 0.33]]\n"
     ]
    }
   ],
   "source": [
    "print(tokenizer.texts_to_matrix(texts, mode = 'freq').round(2)) # 둘째 자리까지 반올림하여 출력"
   ]
  },
  {
   "cell_type": "markdown",
   "id": "da6903ec",
   "metadata": {},
   "source": [
    "mode = 'freq'는 각 문서에서 각 단어의 등장횟수를 분자로, 각 문서에서 등장한 모든 단어의 개수의 총 합을 분모로 표현하는 방법이다."
   ]
  },
  {
   "cell_type": "markdown",
   "id": "3720efb3",
   "metadata": {},
   "source": [
    "3. 20개의 뉴스 그룹(Twenty Newgroups) 데이터에 대한 이해 "
   ]
  },
  {
   "cell_type": "code",
   "execution_count": 14,
   "id": "dec845aa",
   "metadata": {},
   "outputs": [],
   "source": [
    "import pandas as pd\n",
    "from sklearn.datasets import fetch_20newsgroups\n",
    "import matplotlib.pyplot as plt\n",
    "from tensorflow.keras.preprocessing.text import Tokenizer\n",
    "from tensorflow.keras.utils import to_categorical"
   ]
  },
  {
   "cell_type": "code",
   "execution_count": 15,
   "id": "92d55fc3",
   "metadata": {},
   "outputs": [],
   "source": [
    "newsdata = fetch_20newsgroups(subset = 'train') # 훈련데이터만 추출"
   ]
  },
  {
   "cell_type": "code",
   "execution_count": 17,
   "id": "d2c105b0",
   "metadata": {},
   "outputs": [
    {
     "name": "stdout",
     "output_type": "stream",
     "text": [
      "dict_keys(['data', 'filenames', 'target_names', 'target', 'DESCR'])\n"
     ]
    }
   ],
   "source": [
    "print(newsdata.keys())"
   ]
  },
  {
   "cell_type": "code",
   "execution_count": 18,
   "id": "f61bb97f",
   "metadata": {},
   "outputs": [
    {
     "name": "stdout",
     "output_type": "stream",
     "text": [
      "훈련용 샘플의 개수 : 11314\n"
     ]
    }
   ],
   "source": [
    "print('훈련용 샘플의 개수 : {}'.format(len(newsdata.data)))"
   ]
  },
  {
   "cell_type": "code",
   "execution_count": 19,
   "id": "7580a97f",
   "metadata": {},
   "outputs": [
    {
     "name": "stdout",
     "output_type": "stream",
     "text": [
      "총 주제의 개수 : 20\n",
      "['alt.atheism', 'comp.graphics', 'comp.os.ms-windows.misc', 'comp.sys.ibm.pc.hardware', 'comp.sys.mac.hardware', 'comp.windows.x', 'misc.forsale', 'rec.autos', 'rec.motorcycles', 'rec.sport.baseball', 'rec.sport.hockey', 'sci.crypt', 'sci.electronics', 'sci.med', 'sci.space', 'soc.religion.christian', 'talk.politics.guns', 'talk.politics.mideast', 'talk.politics.misc', 'talk.religion.misc']\n"
     ]
    }
   ],
   "source": [
    "print('총 주제의 개수 : {}'.format(len(newsdata.target_names)))\n",
    "print(newsdata.target_names)"
   ]
  },
  {
   "cell_type": "code",
   "execution_count": 20,
   "id": "ee3da980",
   "metadata": {},
   "outputs": [
    {
     "name": "stdout",
     "output_type": "stream",
     "text": [
      "첫번째 샘플의 레이블 : 7\n"
     ]
    }
   ],
   "source": [
    "print('첫번째 샘플의 레이블 : {}'.format(newsdata.target[0]))"
   ]
  },
  {
   "cell_type": "code",
   "execution_count": 21,
   "id": "0f10a006",
   "metadata": {},
   "outputs": [
    {
     "name": "stdout",
     "output_type": "stream",
     "text": [
      "7번 레이블이 의미하는 주제 : rec.autos\n"
     ]
    }
   ],
   "source": [
    "print('7번 레이블이 의미하는 주제 : {}'.format(newsdata.target_names[7]))"
   ]
  },
  {
   "cell_type": "code",
   "execution_count": 22,
   "id": "1506076f",
   "metadata": {},
   "outputs": [
    {
     "name": "stdout",
     "output_type": "stream",
     "text": [
      "From: lerxst@wam.umd.edu (where's my thing)\n",
      "Subject: WHAT car is this!?\n",
      "Nntp-Posting-Host: rac3.wam.umd.edu\n",
      "Organization: University of Maryland, College Park\n",
      "Lines: 15\n",
      "\n",
      " I was wondering if anyone out there could enlighten me on this car I saw\n",
      "the other day. It was a 2-door sports car, looked to be from the late 60s/\n",
      "early 70s. It was called a Bricklin. The doors were really small. In addition,\n",
      "the front bumper was separate from the rest of the body. This is \n",
      "all I know. If anyone can tellme a model name, engine specs, years\n",
      "of production, where this car is made, history, or whatever info you\n",
      "have on this funky looking car, please e-mail.\n",
      "\n",
      "Thanks,\n",
      "- IL\n",
      "   ---- brought to you by your neighborhood Lerxst ----\n",
      "\n",
      "\n",
      "\n",
      "\n",
      "\n"
     ]
    }
   ],
   "source": [
    "print(newsdata.data[0])"
   ]
  },
  {
   "cell_type": "code",
   "execution_count": 24,
   "id": "cbcfff23",
   "metadata": {},
   "outputs": [
    {
     "data": {
      "text/html": [
       "<div>\n",
       "<style scoped>\n",
       "    .dataframe tbody tr th:only-of-type {\n",
       "        vertical-align: middle;\n",
       "    }\n",
       "\n",
       "    .dataframe tbody tr th {\n",
       "        vertical-align: top;\n",
       "    }\n",
       "\n",
       "    .dataframe thead th {\n",
       "        text-align: right;\n",
       "    }\n",
       "</style>\n",
       "<table border=\"1\" class=\"dataframe\">\n",
       "  <thead>\n",
       "    <tr style=\"text-align: right;\">\n",
       "      <th></th>\n",
       "      <th>email</th>\n",
       "      <th>target</th>\n",
       "    </tr>\n",
       "  </thead>\n",
       "  <tbody>\n",
       "    <tr>\n",
       "      <th>0</th>\n",
       "      <td>From: lerxst@wam.umd.edu (where's my thing)\\nS...</td>\n",
       "      <td>7</td>\n",
       "    </tr>\n",
       "    <tr>\n",
       "      <th>1</th>\n",
       "      <td>From: guykuo@carson.u.washington.edu (Guy Kuo)...</td>\n",
       "      <td>4</td>\n",
       "    </tr>\n",
       "    <tr>\n",
       "      <th>2</th>\n",
       "      <td>From: twillis@ec.ecn.purdue.edu (Thomas E Will...</td>\n",
       "      <td>4</td>\n",
       "    </tr>\n",
       "    <tr>\n",
       "      <th>3</th>\n",
       "      <td>From: jgreen@amber (Joe Green)\\nSubject: Re: W...</td>\n",
       "      <td>1</td>\n",
       "    </tr>\n",
       "    <tr>\n",
       "      <th>4</th>\n",
       "      <td>From: jcm@head-cfa.harvard.edu (Jonathan McDow...</td>\n",
       "      <td>14</td>\n",
       "    </tr>\n",
       "  </tbody>\n",
       "</table>\n",
       "</div>"
      ],
      "text/plain": [
       "                                               email  target\n",
       "0  From: lerxst@wam.umd.edu (where's my thing)\\nS...       7\n",
       "1  From: guykuo@carson.u.washington.edu (Guy Kuo)...       4\n",
       "2  From: twillis@ec.ecn.purdue.edu (Thomas E Will...       4\n",
       "3  From: jgreen@amber (Joe Green)\\nSubject: Re: W...       1\n",
       "4  From: jcm@head-cfa.harvard.edu (Jonathan McDow...      14"
      ]
     },
     "execution_count": 24,
     "metadata": {},
     "output_type": "execute_result"
    }
   ],
   "source": [
    "data = pd.DataFrame(newsdata.data, columns = ['email'])\n",
    "data['target'] = pd.Series(newsdata.target)\n",
    "data[:5]"
   ]
  },
  {
   "cell_type": "code",
   "execution_count": 25,
   "id": "403e6881",
   "metadata": {},
   "outputs": [
    {
     "name": "stdout",
     "output_type": "stream",
     "text": [
      "<class 'pandas.core.frame.DataFrame'>\n",
      "RangeIndex: 11314 entries, 0 to 11313\n",
      "Data columns (total 2 columns):\n",
      " #   Column  Non-Null Count  Dtype \n",
      "---  ------  --------------  ----- \n",
      " 0   email   11314 non-null  object\n",
      " 1   target  11314 non-null  int32 \n",
      "dtypes: int32(1), object(1)\n",
      "memory usage: 132.7+ KB\n"
     ]
    }
   ],
   "source": [
    "data.info()"
   ]
  },
  {
   "cell_type": "code",
   "execution_count": 26,
   "id": "77840497",
   "metadata": {},
   "outputs": [
    {
     "data": {
      "text/plain": [
       "False"
      ]
     },
     "execution_count": 26,
     "metadata": {},
     "output_type": "execute_result"
    }
   ],
   "source": [
    "data.isnull().values.any() # Null값을 가진 샘플이 있는지 확인"
   ]
  },
  {
   "cell_type": "code",
   "execution_count": 27,
   "id": "cc38257f",
   "metadata": {},
   "outputs": [
    {
     "name": "stdout",
     "output_type": "stream",
     "text": [
      "중복을 제외한 샘플의 수 : 11314\n",
      "중복을 제외한 주제의 수 : 20\n"
     ]
    }
   ],
   "source": [
    "print('중복을 제외한 샘플의 수 : {}'.format(data['email'].nunique()))\n",
    "print('중복을 제외한 주제의 수 : {}'.format(data['target'].nunique()))"
   ]
  },
  {
   "cell_type": "code",
   "execution_count": 30,
   "id": "a4693ffe",
   "metadata": {},
   "outputs": [
    {
     "data": {
      "image/png": "[encoded data removed]",
      "text/plain": [
       "<Figure size 640x480 with 1 Axes>"
      ]
     },
     "metadata": {},
     "output_type": "display_data"
    }
   ],
   "source": [
    "data['target'].value_counts().plot(kind = 'bar');"
   ]
  },
  {
   "cell_type": "code",
   "execution_count": 32,
   "id": "5276bbcc",
   "metadata": {},
   "outputs": [
    {
     "name": "stdout",
     "output_type": "stream",
     "text": [
      "    target  count\n",
      "0        0    480\n",
      "1        1    584\n",
      "2        2    591\n",
      "3        3    590\n",
      "4        4    578\n",
      "5        5    593\n",
      "6        6    585\n",
      "7        7    594\n",
      "8        8    598\n",
      "9        9    597\n",
      "10      10    600\n",
      "11      11    595\n",
      "12      12    591\n",
      "13      13    594\n",
      "14      14    593\n",
      "15      15    599\n",
      "16      16    546\n",
      "17      17    564\n",
      "18      18    465\n",
      "19      19    377\n"
     ]
    }
   ],
   "source": [
    "print(data.groupby('target').size().reset_index(name='count'))"
   ]
  },
  {
   "cell_type": "code",
   "execution_count": 33,
   "id": "e9b54469",
   "metadata": {},
   "outputs": [],
   "source": [
    "newsdata_test = fetch_20newsgroups(subset = 'test', shuffle = True)\n",
    "train_email = data['email']\n",
    "train_label = data['target']\n",
    "test_email = newsdata_test.data\n",
    "test_label = newsdata_test.target"
   ]
  },
  {
   "cell_type": "code",
   "execution_count": 34,
   "id": "95073f94",
   "metadata": {},
   "outputs": [],
   "source": [
    "vocab_size = 10000 # 최대 단어 개수\n",
    "num_classes = 20"
   ]
  },
  {
   "cell_type": "code",
   "execution_count": 35,
   "id": "1f3101cc",
   "metadata": {},
   "outputs": [],
   "source": [
    "def prepare_data(train_data, test_data, mode): # 전처리 함수\n",
    "    tokenizer = Tokenizer(num_words = vocab_size) # vocab_size(=10000) 개수 만큼의 단어만 사용\n",
    "    tokenizer.fit_on_texts(train_data)\n",
    "    X_train = tokenizer.texts_to_matrix(train_data, mode = mode) # 샘플 수 x vocab_size 크기의 행렬 생성\n",
    "    X_test = tokenizer.texts_to_matrix(test_data, mode = mode) # 샘플 수 x vocab_size 크기의 행렬 생성\n",
    "    return X_train, X_test, tokenizer.index_word"
   ]
  },
  {
   "cell_type": "code",
   "execution_count": 36,
   "id": "0dec0997",
   "metadata": {},
   "outputs": [],
   "source": [
    "X_train, X_test, index_to_word = prepare_data(train_email, test_email, 'binary') # binary 모드로 변환\n",
    "y_train = to_categorical(train_label, num_classes) # 원-핫 인코딩\n",
    "y_test = to_categorical(test_label, num_classes)# 원-핫 인코딩"
   ]
  },
  {
   "cell_type": "code",
   "execution_count": 37,
   "id": "36935081",
   "metadata": {},
   "outputs": [
    {
     "name": "stdout",
     "output_type": "stream",
     "text": [
      "훈련 샘플 본문의 크기 : (11314, 10000)\n",
      "훈련 샘플 레이블의 크기 : (11314, 20)\n",
      "테스트 샘플 본문의 크기 : (7532, 10000)\n",
      "테스트 샘플 레이블의 크기 : (7532, 20)\n"
     ]
    }
   ],
   "source": [
    "print('훈련 샘플 본문의 크기 : {}'.format(X_train.shape))\n",
    "print('훈련 샘플 레이블의 크기 : {}'.format(y_train.shape))\n",
    "print('테스트 샘플 본문의 크기 : {}'.format(X_test.shape))\n",
    "print('테스트 샘플 레이블의 크기 : {}'.format(y_test.shape))"
   ]
  },
  {
   "cell_type": "code",
   "execution_count": 38,
   "id": "c0482d00",
   "metadata": {},
   "outputs": [
    {
     "name": "stdout",
     "output_type": "stream",
     "text": [
      "빈도수 상위 1번 단어 : the\n",
      "빈도수 상위 9999번 단어 : mic\n"
     ]
    }
   ],
   "source": [
    "print('빈도수 상위 1번 단어 : {}'.format(index_to_word[1]))\n",
    "print('빈도수 상위 9999번 단어 : {}'.format(index_to_word[9999]))"
   ]
  },
  {
   "cell_type": "markdown",
   "id": "19d3d4b5",
   "metadata": {},
   "source": [
    "4. 다층 퍼셉트론(Multilayer Perceptron, MLP)을 사용하여 텍스트 분류하기"
   ]
  },
  {
   "cell_type": "code",
   "execution_count": 39,
   "id": "66e51a3d",
   "metadata": {},
   "outputs": [],
   "source": [
    "from tensorflow.keras.models import Sequential\n",
    "from tensorflow.keras.layers import Dense, Dropout"
   ]
  },
  {
   "cell_type": "code",
   "execution_count": 43,
   "id": "57210935",
   "metadata": {},
   "outputs": [],
   "source": [
    "def fit_and_evaluate(X_train, y_train, X_test, y_test) : \n",
    "    model = Sequential()\n",
    "    model.add(Dense(256, input_shape = (vocab_size,), activation = 'relu'))\n",
    "    model.add(Dropout(0.5)) # 과적합 방지\n",
    "    model.add(Dense(128, activation = 'relu'))\n",
    "    model.add(Dropout(0.5))\n",
    "    model.add(Dense(num_classes, activation = 'softmax')) # 다중 클래스 분류 문제라서 softmax 사용\n",
    "    \n",
    "    model.compile(loss = 'categorical_crossentropy', optimizer='adam', metrics=['accuracy'])\n",
    "    model.fit(X_train, y_train, batch_size = 128, epochs = 5, verbose = 1, validation_split = 0.1)\n",
    "    score = model.evaluate(X_test, y_test, batch_size = 128, verbose = 0)\n",
    "    return score[1]"
   ]
  },
  {
   "cell_type": "code",
   "execution_count": 44,
   "id": "4c0483aa",
   "metadata": {},
   "outputs": [
    {
     "name": "stdout",
     "output_type": "stream",
     "text": [
      "Epoch 1/5\n",
      "80/80 [==============================] - 4s 39ms/step - loss: 2.3076 - accuracy: 0.3317 - val_loss: 0.9633 - val_accuracy: 0.8154\n",
      "Epoch 2/5\n",
      "80/80 [==============================] - 3s 36ms/step - loss: 0.8891 - accuracy: 0.7593 - val_loss: 0.4734 - val_accuracy: 0.8852\n",
      "Epoch 3/5\n",
      "80/80 [==============================] - 3s 38ms/step - loss: 0.4353 - accuracy: 0.8846 - val_loss: 0.3689 - val_accuracy: 0.8975\n",
      "Epoch 4/5\n",
      "80/80 [==============================] - 3s 37ms/step - loss: 0.2617 - accuracy: 0.9359 - val_loss: 0.3232 - val_accuracy: 0.9108\n",
      "Epoch 5/5\n",
      "80/80 [==============================] - 3s 37ms/step - loss: 0.1697 - accuracy: 0.9610 - val_loss: 0.3055 - val_accuracy: 0.9134\n",
      "binary 모드의 테스트 정확도: 0.8284652233123779\n",
      "Epoch 1/5\n",
      "80/80 [==============================] - 4s 39ms/step - loss: 2.7048 - accuracy: 0.2497 - val_loss: 1.6189 - val_accuracy: 0.7747\n",
      "Epoch 2/5\n",
      "80/80 [==============================] - 3s 36ms/step - loss: 1.4074 - accuracy: 0.6385 - val_loss: 0.6794 - val_accuracy: 0.8622\n",
      "Epoch 3/5\n",
      "80/80 [==============================] - 3s 37ms/step - loss: 0.7810 - accuracy: 0.8078 - val_loss: 0.5003 - val_accuracy: 0.8763\n",
      "Epoch 4/5\n",
      "80/80 [==============================] - 3s 34ms/step - loss: 0.5194 - accuracy: 0.8739 - val_loss: 0.4378 - val_accuracy: 0.8860\n",
      "Epoch 5/5\n",
      "80/80 [==============================] - 2s 30ms/step - loss: 0.4473 - accuracy: 0.9108 - val_loss: 0.4083 - val_accuracy: 0.8984\n",
      "count 모드의 테스트 정확도: 0.8202336430549622\n",
      "Epoch 1/5\n",
      "80/80 [==============================] - 4s 39ms/step - loss: 2.2278 - accuracy: 0.3568 - val_loss: 0.7608 - val_accuracy: 0.8604\n",
      "Epoch 2/5\n",
      "80/80 [==============================] - 3s 34ms/step - loss: 0.8290 - accuracy: 0.7672 - val_loss: 0.4240 - val_accuracy: 0.9072\n",
      "Epoch 3/5\n",
      "80/80 [==============================] - 3s 34ms/step - loss: 0.4471 - accuracy: 0.8822 - val_loss: 0.3337 - val_accuracy: 0.9152\n",
      "Epoch 4/5\n",
      "80/80 [==============================] - 3s 34ms/step - loss: 0.3139 - accuracy: 0.9226 - val_loss: 0.3025 - val_accuracy: 0.9170\n",
      "Epoch 5/5\n",
      "80/80 [==============================] - 2s 31ms/step - loss: 0.2123 - accuracy: 0.9504 - val_loss: 0.3052 - val_accuracy: 0.9187\n",
      "tfidf 모드의 테스트 정확도: 0.8308550119400024\n",
      "Epoch 1/5\n",
      "80/80 [==============================] - 4s 37ms/step - loss: 2.9723 - accuracy: 0.0974 - val_loss: 2.9007 - val_accuracy: 0.3922\n",
      "Epoch 2/5\n",
      "80/80 [==============================] - 3s 34ms/step - loss: 2.6575 - accuracy: 0.2254 - val_loss: 2.3343 - val_accuracy: 0.3719\n",
      "Epoch 3/5\n",
      "80/80 [==============================] - 3s 34ms/step - loss: 2.1578 - accuracy: 0.3269 - val_loss: 1.8731 - val_accuracy: 0.5380\n",
      "Epoch 4/5\n",
      "80/80 [==============================] - 3s 35ms/step - loss: 1.7578 - accuracy: 0.4611 - val_loss: 1.4965 - val_accuracy: 0.6837\n",
      "Epoch 5/5\n",
      "80/80 [==============================] - 3s 32ms/step - loss: 1.3975 - accuracy: 0.5857 - val_loss: 1.1833 - val_accuracy: 0.7367\n",
      "freq 모드의 테스트 정확도: 0.6919808983802795\n"
     ]
    }
   ],
   "source": [
    "modes = ['binary', 'count', 'tfidf', 'freq'] # 4개의 모드를 리스트에 저장.\n",
    "\n",
    "for mode in modes: # 4개의 모드에 대해서 각각 아래의 작업을 반복한다.\n",
    "    X_train, X_test, _ = prepare_data(train_email, test_email, mode) # 모드에 따라서 데이터를 전처리\n",
    "    score = fit_and_evaluate(X_train, y_train, X_test, y_test) # 모델을 훈련하고 평가.\n",
    "    print(mode+' 모드의 테스트 정확도:', score)"
   ]
  },
  {
   "cell_type": "markdown",
   "id": "302a362a",
   "metadata": {},
   "source": [
    "binary, count, tfidf는 82~83%의 정확도를 보이나, freq 모드에서만 정확도가 69%로 나왔다. \\\n",
    "이는 freq 모드는 이번 다중 클래스 분류에 있어서 적절한 전처리 방법이 아닌것으로 판단된다."
   ]
  },
  {
   "cell_type": "code",
   "execution_count": null,
   "id": "948c578b",
   "metadata": {},
   "outputs": [],
   "source": []
  },
  {
   "cell_type": "code",
   "execution_count": null,
   "id": "f8456863",
   "metadata": {},
   "outputs": [],
   "source": []
  },
  {
   "cell_type": "code",
   "execution_count": null,
   "id": "63353a8a",
   "metadata": {},
   "outputs": [],
   "source": []
  },
  {
   "cell_type": "code",
   "execution_count": null,
   "id": "e267b95f",
   "metadata": {},
   "outputs": [],
   "source": []
  }
 ],
 "metadata": {
  "kernelspec": {
   "display_name": "my_env",
   "language": "python",
   "name": "my_env"
  },
  "language_info": {
   "codemirror_mode": {
    "name": "ipython",
    "version": 3
   },
   "file_extension": ".py",
   "mimetype": "text/x-python",
   "name": "python",
   "nbconvert_exporter": "python",
   "pygments_lexer": "ipython3",
   "version": "3.10.6"
  }
 },
 "nbformat": 4,
 "nbformat_minor": 5
}
