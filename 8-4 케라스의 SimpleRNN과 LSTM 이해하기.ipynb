{
 "cells": [
  {
   "cell_type": "markdown",
   "id": "6c3929f4",
   "metadata": {},
   "source": [
    "8-4 케라스의 SimpleRNN과 LSTM 이해하기"
   ]
  },
  {
   "cell_type": "markdown",
   "id": "27ae33fa",
   "metadata": {},
   "source": [
    "1. 임의의 입력 생성하기"
   ]
  },
  {
   "cell_type": "code",
   "execution_count": 1,
   "id": "ecff2448",
   "metadata": {},
   "outputs": [],
   "source": [
    "import numpy as np\n",
    "import tensorflow as tf\n",
    "from tensorflow.keras.layers import SimpleRNN, LSTM, Bidirectional"
   ]
  },
  {
   "cell_type": "code",
   "execution_count": 2,
   "id": "4ac2922c",
   "metadata": {},
   "outputs": [
    {
     "name": "stdout",
     "output_type": "stream",
     "text": [
      "(4, 5)\n"
     ]
    }
   ],
   "source": [
    "train_X = [[0.1, 4.2, 1.5, 1.1, 2.8], [1.0, 3.1, 2.5, 0.7, 1.1], [0.3, 2.1, 1.5, 2.1, 0.1], [2.2, 1.4, 0.5, 0.9, 1.1]]\n",
    "print(np.shape(train_X))"
   ]
  },
  {
   "cell_type": "markdown",
   "id": "66a519dc",
   "metadata": {},
   "source": [
    "단어 벡터의 차원은 5이고, 문장의 길이가 4인 경우를 가정한 입력이다. \\ \n",
    "4번의 시점(timesteps)이 존재하고, 각 시점마다 5차원의 단어 벡터가 입력으로 사용된다.\\\n",
    "RNN은 3D 텐서를 받기 때문에, 위의 2D 텐서를 3D 텐서로 변경해야한다.(배치 크기 1을 추가해주므로서 해결)"
   ]
  },
  {
   "cell_type": "code",
   "execution_count": 3,
   "id": "f5e458b6",
   "metadata": {},
   "outputs": [
    {
     "name": "stdout",
     "output_type": "stream",
     "text": [
      "(1, 4, 5)\n"
     ]
    }
   ],
   "source": [
    "train_X = [[[0.1, 4.2, 1.5, 1.1, 2.8], [1.0, 3.1, 2.5, 0.7, 1.1], [0.3, 2.1, 1.5, 2.1, 0.1], [2.2, 1.4, 0.5, 0.9, 1.1]]]\n",
    "train_X = np.array(train_X, dtype=np.float32)\n",
    "print(train_X.shape)"
   ]
  },
  {
   "cell_type": "markdown",
   "id": "f67f9520",
   "metadata": {},
   "source": [
    "batch_size는 한 번에 RNN이 학습하는 데이터의 양을 의미하지만, 여기서는 샘플이 1개 밖에 없으므로 batch_size는 1이다."
   ]
  },
  {
   "cell_type": "markdown",
   "id": "0e425ced",
   "metadata": {},
   "source": [
    "2. SimpleRNN 이해하기"
   ]
  },
  {
   "cell_type": "markdown",
   "id": "c18a64bb",
   "metadata": {},
   "source": [
    "SimpleRNN에는 여러 인자가 있으며 대표적인 인자로 return_sequences와 return_state가 있습니다.(디폴트값은 False)\\\n",
    "우선, 은닉 상태의 크기를 3으로 지정하고, 두 인자 값이 모두 False일 때의 출력값을 보자."
   ]
  },
  {
   "cell_type": "code",
   "execution_count": 4,
   "id": "22e3d820",
   "metadata": {},
   "outputs": [
    {
     "name": "stdout",
     "output_type": "stream",
     "text": [
      "hidden state : [[-0.3979709  -0.88291705  0.43067637]], shape : (1, 3)\n"
     ]
    }
   ],
   "source": [
    "rnn = SimpleRNN(3)\n",
    "# rnn = SimpleRNN(3, return_sequences=False, return_state=False) 와 동일.\n",
    "hidden_state = rnn(train_X)\n",
    "\n",
    "print('hidden state : {}, shape : {}'.format(hidden_state, hidden_state.shape))"
   ]
  },
  {
   "cell_type": "markdown",
   "id": "b08aa0a1",
   "metadata": {},
   "source": [
    "(1,3) 크기의 텐서가 출력되는데, 이는 마지막 시점의 은닉 상태입니다. 은닉 상태의 크기를 3으로 지정했음을 주목하자.\\\n",
    "기본적으로 return_sequences가 False인 경우에는 SimpleRNN은 마지막 시점의 은닉 상태만 출력한다. \\\n",
    "이번에는 return_sequences를 True로 지정하여 모든 시점의 은닉 상태를 출력해보자."
   ]
  },
  {
   "cell_type": "code",
   "execution_count": 5,
   "id": "d42730dc",
   "metadata": {},
   "outputs": [
    {
     "name": "stdout",
     "output_type": "stream",
     "text": [
      "hidden states : [[[ 0.99725026 -0.99904823 -0.98791856]\n",
      "  [ 0.9967225  -0.9810791  -0.9995403 ]\n",
      "  [ 0.98373055 -0.84780914 -0.9996451 ]\n",
      "  [ 0.8244302  -0.6976021  -0.9940955 ]]], shape : (1, 4, 3)\n"
     ]
    }
   ],
   "source": [
    "rnn = SimpleRNN(3, return_sequences=True)\n",
    "hidden_states = rnn(train_X)\n",
    "\n",
    "print('hidden states : {}, shape : {}'.format(hidden_states, hidden_states.shape))"
   ]
  },
  {
   "cell_type": "markdown",
   "id": "430bad7d",
   "metadata": {},
   "source": [
    "(1,4,3) 크기의 텐서가 출력된다. 앞서 입력 데이터는 (1,4,5)의 크기를 가지는 3D 텐서였고, 그 중 4가 시점(timesteps)에 해당하는 값이므로 모든 시점에 대해서 은닉 상태의 값을 출력하여 (1,4,3) 크기의 텐서를 출력하는 것입니다.\\\n",
    "\\\n",
    "return_state가 True일 경우에는 return_sequences의 True/False 여부와 상관없이 마지막 시점의 은닉 상태를 출력한다."
   ]
  },
  {
   "cell_type": "code",
   "execution_count": 6,
   "id": "b2a5c9c0",
   "metadata": {},
   "outputs": [
    {
     "name": "stdout",
     "output_type": "stream",
     "text": [
      "hidden states : [[[0.9952047  0.9727711  0.9889182 ]\n",
      "  [0.99802047 0.997049   0.9815166 ]\n",
      "  [0.9881222  0.99366003 0.99327075]\n",
      "  [0.9976192  0.82836545 0.88789225]]], shape : (1, 4, 3)\n",
      "last hidden state : [[0.9976192  0.82836545 0.88789225]], shape : (1, 3)\n"
     ]
    }
   ],
   "source": [
    "rnn = SimpleRNN(3, return_sequences=True, return_state=True)\n",
    "hidden_states, last_state = rnn(train_X)\n",
    "\n",
    "print('hidden states : {}, shape : {}'.format(hidden_states, hidden_states.shape))\n",
    "print('last hidden state : {}, shape : {}'.format(last_state, last_state.shape))"
   ]
  },
  {
   "cell_type": "markdown",
   "id": "6bcf244e",
   "metadata": {},
   "source": [
    "첫번째 출력은 return_sequences = True로 인한 출력으로 모든 시점의 은닉 상태이다. \\\n",
    "두번째 출력은 return_state = True로 인한 출력으로 마지막 시점의 은닉 상태이다.\\\n",
    "따라서 (1,4,3) 텐서의 마지막 벡터값이 return_state = True로 인해 출력된 벡터값과 일치한다."
   ]
  },
  {
   "cell_type": "code",
   "execution_count": 9,
   "id": "782661ae",
   "metadata": {},
   "outputs": [
    {
     "name": "stdout",
     "output_type": "stream",
     "text": [
      "hidden state : [[ 0.998626   -0.97704864 -0.17921217]], shape : (1, 3)\n",
      "last hidden state : [[ 0.998626   -0.97704864 -0.17921217]], shape : (1, 3)\n"
     ]
    }
   ],
   "source": [
    "rnn = SimpleRNN(3, return_sequences = False, return_state = True)\n",
    "hidden_state, last_state = rnn(train_X)\n",
    "\n",
    "print('hidden state : {}, shape : {}'.format(hidden_state, hidden_state.shape))\n",
    "print('last hidden state : {}, shape : {}'.format(last_state, last_state.shape))"
   ]
  },
  {
   "cell_type": "markdown",
   "id": "b15cbfd0",
   "metadata": {},
   "source": [
    "3. LSTM 이해하기"
   ]
  },
  {
   "cell_type": "markdown",
   "id": "70e818ec",
   "metadata": {},
   "source": [
    "SimpleRNN이 사용되는 경우는 거의 없다. 이보다는 LSTM이나 GRU을 주로 사용하는데, 이번에는 임의의 입력에 대해서 LSTM을 사용할 경우를 보자.\\\n",
    "(return_sequences = Fasle, return_state = True 인 상태)"
   ]
  },
  {
   "cell_type": "code",
   "execution_count": 12,
   "id": "3e719920",
   "metadata": {},
   "outputs": [
    {
     "name": "stdout",
     "output_type": "stream",
     "text": [
      "hidden states : [[[ 0.07345077 -0.09812117  0.19927086]\n",
      "  [ 0.17063655 -0.16476111  0.5251932 ]\n",
      "  [ 0.14900154 -0.02021803  0.49831757]\n",
      "  [ 0.37135178  0.04439635  0.4908915 ]]], shape : (1, 4, 3)\n",
      "last hidden state : [[0.37135178 0.04439635 0.4908915 ]], shape : (1, 3)\n",
      "last cell state : [[0.5329913  0.27223247 1.1402311 ]], shape : (1, 3)\n"
     ]
    }
   ],
   "source": [
    "lstm = LSTM(3, return_sequences=True, return_state=True)\n",
    "hidden_states, last_hidden_state, last_cell_state = lstm(train_X)\n",
    "\n",
    "print('hidden states : {}, shape : {}'.format(hidden_states, hidden_states.shape))\n",
    "print('last hidden state : {}, shape : {}'.format(last_hidden_state, last_hidden_state.shape))\n",
    "print('last cell state : {}, shape : {}'.format(last_cell_state, last_cell_state.shape))"
   ]
  },
  {
   "cell_type": "markdown",
   "id": "ed78274b",
   "metadata": {},
   "source": [
    "return_state가 True이므로 두번째 출력값이 마지막 은닉 상태, 세번째 출력값이 마지막 셀 상태인 것은 변함없지만,\\\n",
    "return_sequences가 True이므로 첫번째 출력값은 모든 시점의 은닉 상태가 출력된다."
   ]
  },
  {
   "cell_type": "markdown",
   "id": "59bef1ba",
   "metadata": {},
   "source": [
    "4. Bidirectional(LSTM) 이해하기"
   ]
  },
  {
   "cell_type": "markdown",
   "id": "241df7dc",
   "metadata": {},
   "source": [
    "return_sequences가 True인 경우와 False인 경우에 대해서 은닉 상태의 값이 어떻게 바뀌는지 직접 비교하기 위해서\\\n",
    "이번에는 출력되는 은닉 상태의 값을 고정시켜준다."
   ]
  },
  {
   "cell_type": "code",
   "execution_count": 14,
   "id": "2a31a45b",
   "metadata": {},
   "outputs": [],
   "source": [
    "k_init = tf.keras.initializers.Constant(value=0.1) # kernel_initializer\n",
    "b_init = tf.keras.initializers.Constant(value=0) # bias_initializer\n",
    "r_init = tf.keras.initializers.Constant(value=0.1) # recurrent_initializer"
   ]
  },
  {
   "cell_type": "markdown",
   "id": "8dedcf60",
   "metadata": {},
   "source": [
    "return_sequences가 False이고, return_state가 True인 경우이다."
   ]
  },
  {
   "cell_type": "code",
   "execution_count": 15,
   "id": "c43f23e4",
   "metadata": {},
   "outputs": [
    {
     "name": "stdout",
     "output_type": "stream",
     "text": [
      "hidden states : [[0.6303138 0.6303138 0.6303138 0.7038734 0.7038734 0.7038734]], shape : (1, 6)\n",
      "forward state : [[0.6303138 0.6303138 0.6303138]], shape : (1, 3)\n",
      "backward state : [[0.7038734 0.7038734 0.7038734]], shape : (1, 3)\n"
     ]
    }
   ],
   "source": [
    "bilstm = Bidirectional(LSTM(3, return_sequences=False, return_state=True, \\\n",
    "                           kernel_initializer=k_init, bias_initializer=b_init, recurrent_initializer=r_init))\n",
    "hidden_states, forward_h, forward_c, backward_h, backward_c = bilstm(train_X)\n",
    "\n",
    "print('hidden states : {}, shape : {}'.format(hidden_states, hidden_states.shape))\n",
    "print('forward state : {}, shape : {}'.format(forward_h, forward_h.shape))\n",
    "print('backward state : {}, shape : {}'.format(backward_h, backward_h.shape))"
   ]
  },
  {
   "attachments": {
    "image.png": {
     "image/png": "[encoded data removed]"
    }
   },
   "cell_type": "markdown",
   "id": "5a3e474e",
   "metadata": {},
   "source": [
    "return_state가 True인 경우) \\\n",
    "정방향 LSTM의 은닉 상태(forward_h)와 셀 상태(forward_c) \\\n",
    "역방향 LSTM의 은닉 상태(backward_h)와 셀 상태(backward_c) 4가지를 반환하기 때문이다.\\\n",
    "\\\n",
    "다만, 셀 상태는 각각 forward_c와 backward_c에 저장만 하고 출력하지 않았다.\\\n",
    "첫번째 출력값의 크기가 (1.6)인 것에 주목해보자, 이는 return_sequences가 False인 경우)\\\n",
    "정방향 LSTM의 마지막 시점의 은닉 상태와 역방향 LSTM의 첫번째 시점의 은닉 상태가 연결된 채 반환되기 때문이다.\\\n",
    "![image.png](attachment:image.png)\\\n",
    "마찬가지로 return_state가 True인 경우에 반환한 은닉 상태의 값인 forward_h와 backward_h는 각각 정방향 LSTM의 마지막 시점의\\\n",
    "은닉 상태와 역방향 LSTM의 첫번째 시점의 은닉 상태이다. 그리고 이 두값을 연결한 값이 hidden_states에 출력되는 값이다."
   ]
  },
  {
   "cell_type": "markdown",
   "id": "9dcf064e",
   "metadata": {},
   "source": [
    "- 정방향 LSTM의 마지막 시점의 은닉 상태값 : [0.6303138 0.6303138 0.6303138] \n",
    "- 역방향 LSTM의 첫번째 시점의 은닉 상태값 : [0.7038734 0.7038734 0.7038734] \\\n",
    "현재 은닉 상태의 값을 고정시켜두었기 때문에 return_sequences를 True로 할 경우, 출력이 어떻게 바뀌는지 비교 가능하다."
   ]
  },
  {
   "cell_type": "code",
   "execution_count": 16,
   "id": "28af9384",
   "metadata": {},
   "outputs": [],
   "source": [
    "bilstm = Bidirectional(LSTM(3, return_sequences=True, return_state=True, \\\n",
    "                           kernel_initializer=k_init, bias_initializer=b_init, recurrent_initializer=r_init))\n",
    "hidden_states, forward_h, forward_c, backward_h, backward_c = bilstm(train_X)"
   ]
  },
  {
   "cell_type": "code",
   "execution_count": 17,
   "id": "13a20b30",
   "metadata": {},
   "outputs": [
    {
     "name": "stdout",
     "output_type": "stream",
     "text": [
      "hidden states : [[[0.35906473 0.35906473 0.35906473 0.7038734  0.7038734  0.7038734 ]\n",
      "  [0.55111325 0.55111325 0.55111325 0.58863586 0.58863586 0.58863586]\n",
      "  [0.59115744 0.59115744 0.59115744 0.3951699  0.3951699  0.3951699 ]\n",
      "  [0.6303138  0.6303138  0.6303138  0.21942244 0.21942244 0.21942244]]], shape: (1, 4, 6)\n",
      "forward state : [[0.6303138 0.6303138 0.6303138]], shape: (1, 3)\n",
      "backward state : [[0.7038734 0.7038734 0.7038734]], shape: (1, 3)\n"
     ]
    }
   ],
   "source": [
    "print('hidden states : {}, shape: {}'.format(hidden_states, hidden_states.shape))\n",
    "print('forward state : {}, shape: {}'.format(forward_h, forward_h.shape))\n",
    "print('backward state : {}, shape: {}'.format(backward_h, backward_h.shape))"
   ]
  },
  {
   "attachments": {
    "image.png": {
     "image/png": "[encoded data removed]"
    }
   },
   "cell_type": "markdown",
   "id": "9deca48c",
   "metadata": {},
   "source": [
    "hidden_states의 출력값에서는 이제 모든 시점의 은닉 상태가 출력된다. \\\n",
    "역방향 LSTM의 첫번째 시점의 은닉 상태는 더 이상 정방향 LSTM의 마지막 시점의 은닉 상태와 연결되는것이 아닌,\\\n",
    "정방향 LSTM의 첫번째 시점의 은닉 상태와 연결된다(역방향 LSTM의 첫번째 은닉 , 정방향 LSTM의 첫번째 은닉 연결)\\\n",
    "![image.png](attachment:image.png)"
   ]
  },
  {
   "cell_type": "markdown",
   "id": "463cc661",
   "metadata": {},
   "source": [
    "[[0.6303138 0.6303138 0.6303138 0.7038734 0.7038734 0.7038734]] # return_sequences = False 일때,\\\n",
    "앞의 3개는 정방향 LSTM의 마지막 시점의 은닉 상태값, 뒤의 3개는 역방향 LSTM의 첫번째 시점의 은닉 상태값"
   ]
  },
  {
   "cell_type": "markdown",
   "id": "17385056",
   "metadata": {},
   "source": [
    "[[[0.35906473 0.35906473 0.35906473 0.7038734  0.7038734  0.7038734 ]\n",
    "  [0.55111325 0.55111325 0.55111325 0.58863586 0.58863586 0.58863586]\n",
    "  [0.59115744 0.59115744 0.59115744 0.3951699  0.3951699  0.3951699 ]\n",
    "  [0.6303138  0.6303138  0.6303138  0.21942244 0.21942244 0.21942244]]] # return_sequences = True 일때,\\\n",
    "네 번째행 앞의 3개는 정방향 LSTM의 마지막 시점의 은닉 상태값, 첫 번째행 뒤의 3개는 역방향 LSTM의 첫번째 시점의 은닉 상태값\\\n",
    "즉, 은닉 상태들의 연결 조합이 달라짐."
   ]
  },
  {
   "cell_type": "code",
   "execution_count": null,
   "id": "51f4b119",
   "metadata": {},
   "outputs": [],
   "source": []
  }
 ],
 "metadata": {
  "kernelspec": {
   "display_name": "my_env",
   "language": "python",
   "name": "my_env"
  },
  "language_info": {
   "codemirror_mode": {
    "name": "ipython",
    "version": 3
   },
   "file_extension": ".py",
   "mimetype": "text/x-python",
   "name": "python",
   "nbconvert_exporter": "python",
   "pygments_lexer": "ipython3",
   "version": "3.10.6"
  }
 },
 "nbformat": 4,
 "nbformat_minor": 5
}
