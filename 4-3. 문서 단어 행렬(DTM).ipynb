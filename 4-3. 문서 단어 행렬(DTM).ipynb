{
 "cells": [
  {
   "cell_type": "markdown",
   "id": "af4191f8",
   "metadata": {},
   "source": [
    "4-3. 문서 단어 행렬(Document-Term Matrix, DTM)\n",
    "* 문서 단어 행렬(DTM)이란 다수의 문서에서 등장하는 각 단어들의 빈도를 행렬로 표현한 것을 말한다. \\\n",
    "쉽게 말하면 BoW를 하나의 행렬로 만든 것으로 생각할 수 있으며, BoW표현을 다수의 문서에 대해서 행렬로 표현하고 부르는 용어이다."
   ]
  },
  {
   "cell_type": "markdown",
   "id": "b402e7c1",
   "metadata": {},
   "source": [
    "문서 단어 행렬(DTM)의 한계 \\\n",
    "1) 희소 표현(Sparse representation) \\\n",
    "원-핫 벡터와 같이 단어 집합의 크기가 벡터의 차원이 되고 대부분의 값이 0이 되는 벡터인데, 이는 공간적 낭비와 계산 리소스를 증가시킬 수 있다. 이러한 이유로 전처리 단계에서 집합의 크기를 줄이는 일은 매우 중요하다. \\\n",
    "2) 단순 빈도 수 기반 접근 \\\n",
    "각 문서에는 중요한 단어와 불필요한 단어들이 혼재되어 있는데, 여기서 불필요한 단어를 제거하는 것이 중요하다. DTM에 불용어와 중요한 단어에 대해 가중치를 줄 수 있는 방법으로 \"TF-IDF\"가 있다."
   ]
  }
 ],
 "metadata": {
  "kernelspec": {
   "display_name": "my_env",
   "language": "python",
   "name": "my_env"
  },
  "language_info": {
   "codemirror_mode": {
    "name": "ipython",
    "version": 3
   },
   "file_extension": ".py",
   "mimetype": "text/x-python",
   "name": "python",
   "nbconvert_exporter": "python",
   "pygments_lexer": "ipython3",
   "version": "3.10.6"
  }
 },
 "nbformat": 4,
 "nbformat_minor": 5
}
