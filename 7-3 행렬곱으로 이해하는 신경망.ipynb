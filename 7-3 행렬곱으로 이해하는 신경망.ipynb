{
 "cells": [
  {
   "cell_type": "markdown",
   "id": "e5c4e4e7",
   "metadata": {},
   "source": [
    "7-3. 행렬곱으로 이해하는 신경망\n",
    "* 신경망의 순전파(Forward Propagation)는 결과적으로 행렬의 곱셈으로 이해할 수 있다는 것과 다층 퍼셉트론 내의 학습 가능한 매개변수인 가중치 w와 편향 b의 개수를 추정하는 방법에 대해서 학습합니다. "
   ]
  },
  {
   "cell_type": "markdown",
   "id": "64373b7b",
   "metadata": {},
   "source": [
    "1. 순전파(Foward Propagation)\n",
    "* 활성화 함수, 은닉층의 수, 각 은닉층의 뉴런 수 등 딥 러닝 모델을 설계하고나면 입력값은 입력층, 은닉층을 지나면서 각 층에서의 가중치와 함께 연산되며 출력층으로 향한다. 그리고 출력층에서 모든 연산을 마친 예측값이 나오게 된다. 이와같이 입력층에서 출력층 방향으로 예측값의 연산이 진행되는 과정을 순전파라고 한다."
   ]
  },
  {
   "cell_type": "markdown",
   "id": "383c3de6",
   "metadata": {},
   "source": [
    "2. 행렬곱으로 순전파 이해하기\n",
    "* ex) 입력의 차원이 3, 출력의 차원이 2인 인공 신경망"
   ]
  },
  {
   "cell_type": "code",
   "execution_count": 1,
   "id": "32183e73",
   "metadata": {},
   "outputs": [],
   "source": [
    "from tensorflow.keras.models import Sequential\n",
    "from tensorflow.keras.layers import Dense\n",
    "\n",
    "model = Sequential()\n",
    "\n",
    "# 3개의 입력과 2개의 출력\n",
    "model.add(Dense(2, input_dim = 3, activation = 'softmax'))"
   ]
  },
  {
   "cell_type": "markdown",
   "id": "de4b1e17",
   "metadata": {},
   "source": [
    "로지스틱 회귀가 아닌 소프트맥스 회귀로도 이진 분류는 수행 가능함을 기억하자."
   ]
  },
  {
   "cell_type": "markdown",
   "id": "38ec95b8",
   "metadata": {},
   "source": [
    "케라스에서는 .summary()를 사용하면 해당 모델에 존재하는 모든 매개변수(가중치 w와 편향 b의 개수)를 확인할 수 있다."
   ]
  },
  {
   "cell_type": "code",
   "execution_count": 2,
   "id": "507ed2b1",
   "metadata": {},
   "outputs": [
    {
     "name": "stdout",
     "output_type": "stream",
     "text": [
      "Model: \"sequential\"\n",
      "_________________________________________________________________\n",
      " Layer (type)                Output Shape              Param #   \n",
      "=================================================================\n",
      " dense (Dense)               (None, 2)                 8         \n",
      "                                                                 \n",
      "=================================================================\n",
      "Total params: 8\n",
      "Trainable params: 8\n",
      "Non-trainable params: 0\n",
      "_________________________________________________________________\n"
     ]
    }
   ],
   "source": [
    "model.summary()"
   ]
  },
  {
   "cell_type": "markdown",
   "id": "1e2ba0dc",
   "metadata": {},
   "source": [
    "매개변수가 8개임을 알 수 있는데, 여기서 가중치 w의 개수가 6개, 편향 b의 개수가 2개인 것을 알 수 있다."
   ]
  },
  {
   "cell_type": "markdown",
   "id": "ec11ecfa",
   "metadata": {},
   "source": [
    "3. 행렬곱으로 병렬 연산 이해하기\n",
    "* 인공 신경망이 다수의 샘플을 동시에 처리하는 것을 '배치 연산'이라고 부른다."
   ]
  },
  {
   "cell_type": "markdown",
   "id": "05a428b9",
   "metadata": {},
   "source": [
    "4. 행렬곱으로 다층 퍼셉트론의 순전파 이해하기"
   ]
  },
  {
   "cell_type": "code",
   "execution_count": 3,
   "id": "3321a759",
   "metadata": {},
   "outputs": [],
   "source": [
    "from tensorflow.keras.models import Sequential\n",
    "from tensorflow.keras.layers import Dense\n",
    "\n",
    "model = Sequential()\n",
    "\n",
    "# 4개의 입력과 8개의 출력\n",
    "model.add(Dense(8, input_dim = 4, activation = 'relu'))\n",
    "\n",
    "# 이어서 8개의 출력\n",
    "model.add(Dense(8, activation = 'relu'))\n",
    "\n",
    "# 이어서 3개의 출력\n",
    "model.add(Dense(3, activation = 'softmax'))"
   ]
  },
  {
   "cell_type": "code",
   "execution_count": 4,
   "id": "a7d1a859",
   "metadata": {},
   "outputs": [
    {
     "name": "stdout",
     "output_type": "stream",
     "text": [
      "Model: \"sequential_1\"\n",
      "_________________________________________________________________\n",
      " Layer (type)                Output Shape              Param #   \n",
      "=================================================================\n",
      " dense_1 (Dense)             (None, 8)                 40        \n",
      "                                                                 \n",
      " dense_2 (Dense)             (None, 8)                 72        \n",
      "                                                                 \n",
      " dense_3 (Dense)             (None, 3)                 27        \n",
      "                                                                 \n",
      "=================================================================\n",
      "Total params: 139\n",
      "Trainable params: 139\n",
      "Non-trainable params: 0\n",
      "_________________________________________________________________\n"
     ]
    }
   ],
   "source": []
  },
  {
   "cell_type": "code",
   "execution_count": null,
   "id": "6878a4af",
   "metadata": {},
   "outputs": [],
   "source": []
  }
 ],
 "metadata": {
  "kernelspec": {
   "display_name": "my_env",
   "language": "python",
   "name": "my_env"
  },
  "language_info": {
   "codemirror_mode": {
    "name": "ipython",
    "version": 3
   },
   "file_extension": ".py",
   "mimetype": "text/x-python",
   "name": "python",
   "nbconvert_exporter": "python",
   "pygments_lexer": "ipython3",
   "version": "3.10.6"
  }
 },
 "nbformat": 4,
 "nbformat_minor": 5
}
